{
 "cells": [
  {
   "cell_type": "markdown",
   "id": "f688f9ac-ebc1-475c-a278-5e7242b99802",
   "metadata": {},
   "source": [
    "# Klasifikace obrázků CIFAR-10 pomocí vícevrstvého perceptronu"
   ]
  },
  {
   "cell_type": "markdown",
   "id": "21f9aabd-6fd0-4329-9239-0ec347de0db9",
   "metadata": {},
   "source": [
    "Úkolem cvičení je natrénovat vícevrstvý perceptron pro klasifikaci na datasetu CIFAR-10 s alespoň 50% úpěšností na validační sadě."
   ]
  },
  {
   "cell_type": "code",
   "execution_count": null,
   "id": "42fb7b35-c756-4246-aff2-03ab3928ad77",
   "metadata": {},
   "outputs": [],
   "source": [
    "%load_ext autoreload\n",
    "%autoreload 2"
   ]
  },
  {
   "cell_type": "code",
   "execution_count": null,
   "id": "3375f030-c696-4b7d-a808-5ab895104166",
   "metadata": {},
   "outputs": [],
   "source": [
    "import sys\n",
    "sys.path.append('..')  # import tests\n",
    "\n",
    "import torch\n",
    "import torchvision\n",
    "\n",
    "import ans\n",
    "from tests import test_multilayer_perceptron\n",
    "from tests import randn_var"
   ]
  },
  {
   "cell_type": "markdown",
   "id": "9782a019-6126-4702-aa45-a496924b6f82",
   "metadata": {},
   "source": [
    "# Třída `ans.optim.Optimizer`"
   ]
  },
  {
   "cell_type": "markdown",
   "id": "1799f201-c5a8-4254-a38d-3f6f8e6fcf02",
   "metadata": {},
   "source": [
    " Ve cvičení [neural-library](neural-library.ipynb) jsme navrhli vrstvy sítě jako objekty, které je možné libovolně skládat za sebou použitím třídy `Sequential`. Jednoduchý model zadefinujeme např. takto:"
   ]
  },
  {
   "cell_type": "code",
   "execution_count": null,
   "id": "5a9248c1-5065-4c11-a51e-899c23f4eca0",
   "metadata": {},
   "outputs": [],
   "source": [
    "model = ans.modules.Sequential(\n",
    "    ans.modules.Linear(4, 4),\n",
    "    ans.modules.Sigmoid(),\n",
    "    ans.modules.Linear(4, 3),\n",
    "    ans.modules.Sigmoid(),\n",
    "    ans.modules.Linear(3, 2)\n",
    ")\n",
    "model"
   ]
  },
  {
   "cell_type": "markdown",
   "id": "21522af7-4be4-43b0-a4a8-a430bbe5f633",
   "metadata": {},
   "source": [
    "Seznam parametrů získáme metodou `named_parameters()`."
   ]
  },
  {
   "cell_type": "code",
   "execution_count": null,
   "id": "b6c38439-25ec-4c50-8398-e61980259898",
   "metadata": {},
   "outputs": [],
   "source": [
    "model.named_parameters()"
   ]
  },
  {
   "cell_type": "markdown",
   "id": "1dfa638b-d833-4232-a31c-859402daf37e",
   "metadata": {},
   "source": [
    "Trénování sítě bude spočívat v aktualizaci atributů `p.data` pomocí `p.grad` každého parametru `p`.\n",
    "``` python\n",
    "for name, par in model.named_parameters():\n",
    "    par.data -= 1e-3 * par.grad  # SGD update with learning rate of 0.001\n",
    "```\n",
    "\n",
    "Uvedený kód implementuje update parametru `par` stochastickou metodou největšího spádu (Stochastic Gradient Descent, SGD). Proměnná `par` ve `for` cyklu je odkazem na objekt typu `Variable`, který jako svůj atribut drží jedna z vrstev modelu a používá ho např. při dopředném průchodu. Jelikož vedle SGD existují i jiné metody optimalizace parametrů, je vhodné kód výše refaktorovat do objektů tak, aby výměna SGD nař. za [Adam](https://en.wikipedia.org/wiki/Stochastic_gradient_descent#Adam) byla otázkou max. jednoho řádku kódu. Zavedeme proto speciální modul `ans.optim`, který bude obsahovat optimalizační algoritmy, a v něm zadefinujeme základní třídu `Optimizer`, jež bude sloužit jako (abstraktní) vzorové rozhraní optimalizace."
   ]
  },
  {
   "cell_type": "code",
   "execution_count": null,
   "id": "13e07885-ec86-4e36-ac9a-19bca8af65f8",
   "metadata": {},
   "outputs": [],
   "source": [
    "ans.optim.Optimizer??"
   ]
  },
  {
   "cell_type": "markdown",
   "id": "3453cce4-cbfa-49eb-adaa-1cf39b5a3c4e",
   "metadata": {},
   "source": [
    "Metoda `__init__` třídy `Optimizer` převezme seznam parametrů modelu. Ten získáme např. jako `model.parameters()`. Metoda `parameters` je implementována v základní tříde `ans.modules.Module` a funguje podobně jako `named_parameters` - pouze výsledek vrací bez automaticky vygenerovaných jmen.\n",
    "\n",
    "Metoda `step` bude pro každý optimizér jiná a bude implementovat nějaké konkrétní pravidlo updatu parametrů. V případě SGD půjde o kód uvedený výše.\n",
    "\n",
    "Metoda `zero_grad` u všech parametrů, které má optimizér zaregistrovány ve svém atributu `self.parameters`, vynuluje atribut `grad` jeho nastavením na `None`. Metodu `zero_grad` bude nutné volat vždy před spuštěním zpětné propagace, jinak dojde k akumulaci gradientů např. z minulé dávky."
   ]
  },
  {
   "cell_type": "markdown",
   "id": "9f8dad44-8f79-428a-a046-9d54cf723b03",
   "metadata": {},
   "source": [
    "# (Momentum) Stochastic Gradient Descent (SGD)"
   ]
  },
  {
   "cell_type": "markdown",
   "id": "9ccf493a-0c8d-46cb-b88a-5d9bbe642e66",
   "metadata": {},
   "source": [
    "Základní metodou optimalizace je stochastická metoda největšího spádu (Stochastic Gradient Descent, SGD). Po vzoru knihovny PyTorch budeme implementovat verzi s \"hybností\", tzv. Momentum SGD.\n",
    "\n",
    "**Jeden krok optimalizace**\n",
    "\n",
    "$$\n",
    "\\begin{split}\n",
    "    % v^{(t)} & := \\alpha \\cdot v^{(t-1)} - \\gamma \\cdot \\nabla l\\left( v^{(t-1)} \\right) \\\\\n",
    "    % v^{(t+1)} & := \\alpha \\cdot v^{(t)} - \\gamma \\cdot \\overline{\\theta}} \\\\\n",
    "    % \\theta^{(t+1)} & := \\theta^{(t)} + v^{(t+1)}\n",
    "    \\widehat{\\theta}_{t} & := \\overline{\\theta}_t + \\lambda \\cdot \\theta_{t} \\\\\n",
    "    v_{t} & := \\alpha \\cdot v_{t-1} - \\gamma \\cdot \\widehat{\\theta}_{t} \\\\\n",
    "    \\theta_{t+1} & := \\theta_{t} + v_t\n",
    "\\end{split}\n",
    "$$\n",
    "- všechny proměnné jsou reálná čísla (skaláry)\n",
    "- $\\theta_{t}$ a $\\theta_{t+1}$ značí původní, resp. nově vypočtenou hodnotu jednoho z parametrů modelu (např. jednoho z prvků váhové matice)\n",
    "<!-- - $\\theta_{t}$ značí novou hodnotu parametru po provedení updatu metodou SGD -->\n",
    "- $\\overline{\\theta}_t = \\partial l_t / \\partial \\theta_{t}$ je gradient celkového lossu $l_t$ v iteraci $t$ vůči parametru $\\theta_{t}$ získaný zpětnou propagací\n",
    "- $\\widehat{\\theta}_{t}$ je upravený gradient se zohledněním regularizace\n",
    "- $v_{t-1}$ a $v_t$ značí \"rychlosti\" (velocity) z minulého, resp. aktuálního kroku\n",
    "- $\\alpha \\in [0, 1]$ (hyperparametr) je reálné číslo mezi 0 a 1 (včetně) a značí tzv. hybnost (momentum)\n",
    "- $\\lambda$ (hyperparametr) je koeficient L2 regularizace, tzv. weight decay\n",
    "- $\\gamma$ (hyperparametr) značí krok učení, tzv. learning rate\n",
    "\n",
    "Krok bude implementovat metoda `step` třídy `SGD`. Projde všechny registrované parametry (proměnné typu `ans.autograd.Variable`) a *pokud obsahují `grad`, který není `None`*, dojde k updatu jejich atributu `data` uvedeným pravidlem. Atributy, jejichž `grad` je `None`, se z updatu vynechají."
   ]
  },
  {
   "cell_type": "markdown",
   "id": "6f080a98-4029-4e4f-b668-d938985c8af6",
   "metadata": {},
   "source": [
    "### TODO: implementujte třídu `SGD` v modulu `ans.optim`"
   ]
  },
  {
   "cell_type": "code",
   "execution_count": null,
   "id": "a5d94c84-a3a1-479b-b5ea-71e489e71b0e",
   "metadata": {},
   "outputs": [],
   "source": [
    "test_multilayer_perceptron.TestSGD.eval()"
   ]
  },
  {
   "cell_type": "markdown",
   "id": "482ea58b-54c7-4eaa-b6f7-9341e6b69860",
   "metadata": {},
   "source": [
    "# Načtení dat a příprava dat"
   ]
  },
  {
   "cell_type": "markdown",
   "id": "8400716d-4332-4058-a083-ed332ee105d7",
   "metadata": {},
   "source": [
    "Kód pro načítání a zpracování dat bude velmi podobný cvičení [Lineární klasifikace](linear-classification.ipynb)."
   ]
  },
  {
   "cell_type": "code",
   "execution_count": null,
   "id": "bd2b9ba8-1242-46e5-9b2f-5e11dae11d02",
   "metadata": {},
   "outputs": [],
   "source": [
    "train_dataset = torchvision.datasets.CIFAR10(root='../data', train=True, download=True)\n",
    "train_dataset"
   ]
  },
  {
   "cell_type": "code",
   "execution_count": null,
   "id": "58ebdd45-432d-4e5f-98e6-87dccef3e4df",
   "metadata": {},
   "outputs": [],
   "source": [
    "val_dataset = torchvision.datasets.CIFAR10(root='../data', train=False, download=True)\n",
    "val_dataset"
   ]
  },
  {
   "cell_type": "markdown",
   "id": "f3d6a478-dde2-4e74-ac83-5d90b5d26284",
   "metadata": {},
   "source": [
    "Rozdíl bude ve funkci `preprocess`, která nyní bude zařizovat i konverzi do správného datového typu. Trénování je pak možné přepnutím jediného řádku díky podpoře v PyTorchi spustit i na grafické kartě, viz hlavní cyklus. V důsledku je tak nutné do `preprocess` posílat i `targets`, protože při výpočtech musejí být všechny tensory na stejném zařízení. Tensoru `targets` se to týká při výpočtu křížové entropie. Funkce pak bude vracet dvojici `(outputs, targets)`."
   ]
  },
  {
   "cell_type": "code",
   "execution_count": null,
   "id": "d5b01721-6400-4a75-a6d4-a96b333b99cf",
   "metadata": {},
   "outputs": [],
   "source": [
    "def preprocess(\n",
    "        inputs: torch.Tensor,\n",
    "        targets: torch.Tensor,\n",
    "        dtype: torch.dtype = torch.float32,\n",
    "        device: torch.device = torch.device(type='cpu')\n",
    ") -> tuple[torch.Tensor, torch.Tensor]:\n",
    "    \"\"\"\n",
    "    Args:\n",
    "        inputs: n-dimensional tensor with first dimension of size num_inputs\n",
    "        targets: 1-dimensional tensor (vector) with first dimension of size num_inputs\n",
    "        dtype: to which data type should the inputs (not targets) be converted\n",
    "        device: to which device should both inputs and targets be transferred\n",
    "    Returns:\n",
    "        outputs: 2-dimensional tensor; shape (num_inputs, num_features), dtype `dtype`, device `device`\n",
    "        targets: 1-dimensional tensor (vector); shape (num_inputs,1) device `device`\n",
    "    \"\"\"\n",
    "    \n",
    "    ########################################\n",
    "    # TODO: implement\n",
    "    \n",
    "    raise NotImplementedError\n",
    "    \n",
    "    # ENDTODO\n",
    "    ########################################\n",
    "    \n",
    "    return outputs, targets"
   ]
  },
  {
   "cell_type": "code",
   "execution_count": null,
   "id": "5d3bb7e9-02ad-409d-8a21-1ec3cad82f54",
   "metadata": {},
   "outputs": [],
   "source": [
    "test_multilayer_perceptron.TestPreprocess.eval(preprocess_fn=preprocess)"
   ]
  },
  {
   "cell_type": "markdown",
   "id": "409d6fe1-4e7b-456e-be47-cf402e3de5ab",
   "metadata": {},
   "source": [
    "# Funkce pro trénování"
   ]
  },
  {
   "cell_type": "code",
   "execution_count": null,
   "id": "2c2b2eaf-2c6b-42ae-88e7-e50848a8a5d2",
   "metadata": {},
   "outputs": [],
   "source": [
    "def accuracy(scores: torch.Tensor, targets: torch.Tensor) -> torch.Tensor:\n",
    "    \"\"\"\n",
    "    Args:\n",
    "        scores: output linear scores (logits before softmax); shape (num_samples, num_classes)\n",
    "        targets: vector of class indicies (integers); shape (num_samples,)\n",
    "    Returns:\n",
    "        acc: averare accuracy on the batch; tensor containing single number (scalar), e.g. \"tensor(0.364)\"\n",
    "    \"\"\"\n",
    "    \n",
    "    ########################################\n",
    "    # TODO: implement\n",
    "    \n",
    "    raise NotImplementedError\n",
    "    \n",
    "    # ENDTODO\n",
    "    ########################################\n",
    "    \n",
    "    return acc"
   ]
  },
  {
   "cell_type": "code",
   "execution_count": null,
   "id": "ac621370-43eb-4ac8-b84d-522d059186bd",
   "metadata": {},
   "outputs": [],
   "source": [
    "test_multilayer_perceptron.TestAccuracy.eval(accuracy_fn=accuracy)"
   ]
  },
  {
   "cell_type": "markdown",
   "id": "b342b119-9002-4db0-baae-3f900b51d8bc",
   "metadata": {},
   "source": [
    "Ve funkcích `train_step` a `val_step` předejte do `preprocess` zařízení a datový typ modelu. Získáte je jako `model.device()`, resp. `model.dtype()`. Nezapomeňte také na `zero_grad()`."
   ]
  },
  {
   "cell_type": "code",
   "execution_count": null,
   "id": "9b2de6df-0a5e-4c8b-9628-677fe47ef6ef",
   "metadata": {},
   "outputs": [],
   "source": [
    "def train_step(\n",
    "    inputs: torch.Tensor,\n",
    "    targets: torch.Tensor,\n",
    "    model: ans.modules.Module,\n",
    "    criterion: ans.modules.Module,\n",
    "    optimizer: ans.optim.Optimizer\n",
    ") -> tuple[float, float]:\n",
    "    ########################################\n",
    "    # TODO: implement\n",
    "    \n",
    "    raise NotImplementedError\n",
    "    \n",
    "    # ENDTODO\n",
    "    ########################################\n",
    "    \n",
    "    return loss.data.item(), acc.item()"
   ]
  },
  {
   "cell_type": "code",
   "execution_count": null,
   "id": "63ed8fa1-1686-4160-ae24-bc4505dd150d",
   "metadata": {
    "tags": []
   },
   "outputs": [],
   "source": [
    "def val_step(\n",
    "    inputs: torch.Tensor,\n",
    "    targets: torch.Tensor,\n",
    "    model: ans.modules.Module,\n",
    "    criterion: ans.modules.Module\n",
    ") -> tuple[float, float]:\n",
    "    ########################################\n",
    "    # TODO: implement\n",
    "    \n",
    "    raise NotImplementedError\n",
    "    \n",
    "    # ENDTODO\n",
    "    ########################################\n",
    "    \n",
    "    return loss.data.item(), acc.item()"
   ]
  },
  {
   "cell_type": "code",
   "execution_count": null,
   "id": "881c6636-11c0-4fc3-ae01-9212804beedb",
   "metadata": {},
   "outputs": [],
   "source": [
    "test_multilayer_perceptron.TestSteps.eval(train_step_fn=train_step, val_step_fn=val_step)"
   ]
  },
  {
   "cell_type": "code",
   "execution_count": null,
   "id": "56e9de44-accd-4a5d-92d9-d079fa377bae",
   "metadata": {},
   "outputs": [],
   "source": [
    "def validate(\n",
    "    loader: ans.data.BatchLoader,\n",
    "    model: ans.modules.Module,\n",
    "    criterion: ans.modules.Module\n",
    ") -> tuple[float, float]:\n",
    "    total_loss = 0.\n",
    "    total_acc = 0.\n",
    "    for inputs, targets in loader:\n",
    "        loss, acc = val_step(inputs, targets, model, criterion)\n",
    "        total_loss += loss\n",
    "        total_acc += acc\n",
    "    return total_loss / len(loader), total_acc / len(loader)"
   ]
  },
  {
   "cell_type": "markdown",
   "id": "e96278e8-81ca-413b-8421-828c37ca29ae",
   "metadata": {},
   "source": [
    "# Hlavní cyklus"
   ]
  },
  {
   "cell_type": "markdown",
   "id": "dd53d828-9087-4d3c-b1e4-edffb136ea35",
   "metadata": {},
   "source": [
    "### TODO: Natrénujte MLP model dosahující alespoň 50% úspěšnosti na validační sadě."
   ]
  },
  {
   "cell_type": "code",
   "execution_count": null,
   "id": "7f2d267a-5a7f-41d0-b5f0-a7251e50b3d2",
   "metadata": {},
   "outputs": [],
   "source": [
    "%%time\n",
    "\n",
    "# reproducibility\n",
    "ans.utils.seed_everything(0)\n",
    "\n",
    "# hyperparameters\n",
    "num_epochs = ...\n",
    "batch_size = ...\n",
    "learning_rate = ...\n",
    "momentum = ...\n",
    "weight_decay = ...\n",
    "\n",
    "# data loaders\n",
    "train_loader = ans.data.BatchLoader(\n",
    "    torch.tensor(train_dataset.data),\n",
    "    torch.tensor(train_dataset.targets),\n",
    "    batch_size=batch_size,\n",
    "    shuffle=True\n",
    ")\n",
    "val_loader = ans.data.BatchLoader(\n",
    "    torch.tensor(val_dataset.data),\n",
    "    torch.tensor(val_dataset.targets),\n",
    "    batch_size=batch_size,\n",
    "    shuffle=False\n",
    ")\n",
    "\n",
    "# init parameters\n",
    "model = ans.modules.Sequential(\n",
    "    ...\n",
    ")\n",
    "# model.to(device='cuda')  # optionally run on the GPU\n",
    "\n",
    "# loss function\n",
    "criterion = ...\n",
    "\n",
    "# optimizer\n",
    "optimizer = ...\n",
    "\n",
    "# validate once before training\n",
    "train_loss, train_acc = validate(train_loader, model, criterion)\n",
    "val_loss, val_acc = validate(val_loader, model, criterion)\n",
    "\n",
    "# record history for plotting\n",
    "history = ans.utils.MetricsHistory()\n",
    "history.update(train_loss=train_loss, train_acc=train_acc, val_loss=val_loss, val_acc=val_acc)\n",
    "\n",
    "# optimize\n",
    "for epoch in range(num_epochs):\n",
    "    # train loop\n",
    "    model.train()\n",
    "    for inputs, targets in train_loader:\n",
    "        loss, acc = train_step(inputs, targets, model, criterion, optimizer)\n",
    "        train_loss = 0.99 * train_loss + 0.01 * loss\n",
    "        train_acc = 0.99 * train_acc + 0.01 * acc\n",
    "    \n",
    "    # validation loop\n",
    "    model.eval()\n",
    "    val_loss, val_acc = validate(val_loader, model, criterion)\n",
    "    \n",
    "    history.update(train_loss=train_loss, train_acc=train_acc, val_loss=val_loss, val_acc=val_acc)"
   ]
  },
  {
   "cell_type": "code",
   "execution_count": null,
   "id": "491dd674-cb31-49c1-baf1-676e80acad5a",
   "metadata": {},
   "outputs": [],
   "source": [
    "print(history.best_results('val_acc', 'max'))\n",
    "history.df().plot(secondary_y=['train_acc', 'val_acc']);"
   ]
  },
  {
   "cell_type": "markdown",
   "id": "3fe2e3b3-43de-4543-80ff-64ad1f34b311",
   "metadata": {},
   "source": [
    "# Další vylepšení"
   ]
  },
  {
   "cell_type": "markdown",
   "id": "045a7237-3dd4-4c2f-82d3-cf50d01e3aa8",
   "metadata": {},
   "source": [
    "Jako bonus můžete zkusit trochu vylepšit skóre sítě několika technikami. Implementujte postupně každou z nich, opakujte hlavní cyklus znovu a sledujte, zda a jak se mění výsledná přesnost na validační sadě (`val_acc`). Model by měl dosáhnout alespoň 55% přesnosti na validační množině. Výsledku lze navíc dosáhnout rychleji, tj. dříve a s menším počtem epoch."
   ]
  },
  {
   "cell_type": "markdown",
   "id": "f9a8efe7-4fe1-4c24-b4f5-0ef02a7bfd05",
   "metadata": {},
   "source": [
    "## Preprocessing"
   ]
  },
  {
   "cell_type": "markdown",
   "id": "267e0088-c637-4fbc-9e2b-ae15860aa7e5",
   "metadata": {},
   "source": [
    "Jako nejjednodušší vylepšení můžete zkusit vycentrovat data, která vstupují do sítě, tak, aby měla přibližně nulový průměr. Není nutné počítat průměr dávky či z celého datasetu. Od každé dávky znormalizované do rozsahu 0...1 jednoduše odečtěte 0.5."
   ]
  },
  {
   "cell_type": "markdown",
   "id": "10812373-15f2-4152-86d7-63ebbdc308a1",
   "metadata": {},
   "source": [
    "### TODO: modifikujte funkci `preprocess` tak, aby prvky výstupu měly přibližně nulovou očekávanou hodnotu"
   ]
  },
  {
   "cell_type": "code",
   "execution_count": null,
   "id": "9ffa3b37-4e93-479d-8abd-985a42279447",
   "metadata": {},
   "outputs": [],
   "source": [
    "test_multilayer_perceptron.TestPreprocess.eval(preprocess_fn=preprocess, centered=True)"
   ]
  },
  {
   "cell_type": "code",
   "execution_count": null,
   "id": "02d12fb3-87f9-4c8f-ba45-7b707cd48807",
   "metadata": {},
   "outputs": [],
   "source": [
    "# main loop"
   ]
  },
  {
   "cell_type": "code",
   "execution_count": null,
   "id": "d98199a9-7f12-4247-bc69-b528a35b1aa8",
   "metadata": {},
   "outputs": [],
   "source": [
    "print(history.best_results('val_acc', 'max'))\n",
    "history.df().plot(secondary_y=['train_acc', 'val_acc']);"
   ]
  },
  {
   "cell_type": "markdown",
   "id": "7e3dff28-ab4e-42b1-9aec-ce458a8f8bc4",
   "metadata": {},
   "source": [
    "## Rectified Linear Unit (ReLU)"
   ]
  },
  {
   "cell_type": "markdown",
   "id": "bb6fa22b-920b-47a0-87ce-8ba8c0b0838e",
   "metadata": {},
   "source": [
    "Sigmoid nelinearita nemá příliš vhodné vlastnosti pro zpětnou propagaci. Efektivnější se z tohoto pohledu se ukázala rektifikovaná lineární jednotka, tzv. ReLU.\n",
    "\n",
    "**Dopředný průchod**\n",
    "\n",
    "$$\n",
    "z = \\begin{cases}\n",
    "    0 & \\textrm{pokud} & x \\le 0 \\\\\n",
    "    1 & \\textrm{pokud} & x \\gt 0 \\\\\n",
    "\\end{cases}\n",
    "$$\n",
    "- $x$ je reálné číslo (skalár)\n",
    "- $z$ je reálně číslo (skalár)\n",
    "\n",
    "**Zpětný průchod**\n",
    "\n",
    "$$\n",
    "\\overline{x} = \\begin{cases}\n",
    "    0 & \\textrm{pokud} & x \\le 0 \\\\\n",
    "    \\overline{z} & \\textrm{pokud} & x \\gt 0 \\\\\n",
    "\\end{cases}\n",
    "$$\n",
    "- $\\overline{z}$ je příchozí gradient na $z$\n",
    "\n",
    "**Dávkové zpracování**\n",
    "\n",
    "Operaci ReLU aplikujeme na všechny prvky vstupu nezávisle na sobě.\n",
    "\n",
    "**Poznámka**\n",
    "\n",
    "Jelikož operace ReLU není diferencovatelná, numerický gradient se pro malé hodnoty $x \\approx 0$ kolem bodu zlomu v nule nechová jako subgradient a nevychází \"správně\". Pokud vám `gradcheck` v testu selže i přes podle vás správnou implementaci zpětného průchodu, zkuste ho opakovat. Pravděpodobnost selhávajícího testu je cca 27 %."
   ]
  },
  {
   "cell_type": "markdown",
   "id": "d19d2818-9a5e-42a0-854b-a14f3bceed42",
   "metadata": {},
   "source": [
    "### TODO: implementujte funkci `ans.functional.ReLU` a vrstvu `ans.modules.ReLU`"
   ]
  },
  {
   "cell_type": "code",
   "execution_count": null,
   "id": "d305a5f4-8a76-408a-8774-fd1e666505f6",
   "metadata": {},
   "outputs": [],
   "source": [
    "ans.autograd.gradcheck(\n",
    "    ans.functional.ReLU.apply,\n",
    "    (\n",
    "        randn_var(8, 4, std=10., name='input'),\n",
    "    )\n",
    ")"
   ]
  },
  {
   "cell_type": "code",
   "execution_count": null,
   "id": "9f771b38-9fe2-42f5-ba68-0698c62278a3",
   "metadata": {},
   "outputs": [],
   "source": [
    "test_multilayer_perceptron.TestReLU.eval()"
   ]
  },
  {
   "cell_type": "code",
   "execution_count": null,
   "id": "247509a7-5baf-41a3-99b2-35d8a1a279dd",
   "metadata": {},
   "outputs": [],
   "source": [
    "# main loop"
   ]
  },
  {
   "cell_type": "code",
   "execution_count": null,
   "id": "3ea2c1ed-fc10-4cb4-9b6b-1cbd4893aaa5",
   "metadata": {},
   "outputs": [],
   "source": [
    "print(history.best_results('val_acc', 'max'))\n",
    "history.df().plot(secondary_y=['train_acc', 'val_acc']);"
   ]
  },
  {
   "cell_type": "markdown",
   "id": "a0df2810-3763-4cbc-ad84-27fdfde415c8",
   "metadata": {},
   "source": [
    "## Normalizace dávky (batch normalization)"
   ]
  },
  {
   "cell_type": "markdown",
   "id": "2440cd9f-8dcc-4f9d-9e09-7a0cd1edfde6",
   "metadata": {},
   "source": [
    "Další vylepšení úspěšnosti je možné dosáhnout normalizací výstupů skrytých vrstev, tzv. batch normalizací.\n",
    "\n",
    "**Dopředný průchod v trénovacím režimu**\n",
    "\n",
    "$$\n",
    "\\begin{split}\n",
    "    \\boldsymbol{\\mu} & = \\frac{1}{N}\\sum_{n=1}^N{\\boldsymbol{x}_n} \\\\\n",
    "    \\boldsymbol{\\sigma}^2 & = \\frac{1}{N}\\sum_{n=1}^N{\\left(\\boldsymbol{x}_n - \\boldsymbol{\\mu}\\right)^2} \\\\\n",
    "    \\hat{\\boldsymbol{x}}_n & = \\frac{\\boldsymbol{x}_n - \\boldsymbol{\\mu}}{\\sqrt{\\boldsymbol{\\sigma}^2 + \\epsilon}} \\\\\n",
    "    \\boldsymbol{z}_n & = \\boldsymbol{\\gamma} \\odot \\hat{\\boldsymbol{x}}_n + \\boldsymbol{\\beta}\n",
    "\\end{split}\n",
    "$$\n",
    "- $\\boldsymbol{x}_n = [x_{n1}, \\ldots, x_{nD}]$ je jeden vzorek dávky jako (řádkový) vektor s rozměrem $D$\n",
    "- $N$ je počet vstupů (vektorů) v dávce\n",
    "- $\\boldsymbol{\\mu} = [\\mu_1, \\ldots, \\mu_D]$ je odhad průměrného vektoru na základě dávky\n",
    "- $\\boldsymbol{\\sigma}^2 = [\\sigma_1^2, \\ldots, \\sigma_D^2]$ *vychýlený* odhad vektoru rozptylů na základě dávky\n",
    "- $\\boldsymbol{\\gamma} = [\\gamma_1, \\ldots, \\gamma_D]$ je (řádkový) vektor s rozměrem $D$ škálující standardní odchylku výstupu\n",
    "- $\\boldsymbol{\\beta} = [\\beta_1, \\ldots, \\beta_D]$ je (řádkový) vektor s rozměrem $D$ posouvající očekávanou hodnotu výstupu\n",
    "- $\\epsilon \\approx 10^{-5}$ je konstanta (reálné číslo) zabraňující dělení nulou\n",
    "- $\\boldsymbol{z}_n = [z_1, \\ldots, z_D]$ je (řádkový) výstupní vektor s rozměrem $D$\n",
    "\n",
    "V trénovacím režimu zároveň průběžně akumulujeme statistiky průměrného vektoru a vektoru rozptylů\n",
    "\n",
    "$$\n",
    "\\begin{split}\n",
    "    \\boldsymbol{m} & := \\alpha \\cdot \\boldsymbol{m} + (1 - \\alpha) \\cdot \\boldsymbol{\\mu} \\\\\n",
    "    \\boldsymbol{v}^2 & := \\alpha \\cdot \\boldsymbol{v}^2 + (1 - \\alpha) \\cdot \\frac{N}{N-1} \\cdot \\boldsymbol{\\sigma^2}\n",
    "\\end{split}\n",
    "$$\n",
    "- $\\boldsymbol{m} = [m_1, \\ldots, m_D]$ je průběžný odhad očekávaného vektoru $\\boldsymbol{\\mu}$, tj. $\\boldsymbol{m} \\approx E[\\boldsymbol{\\mu}]$\n",
    "- $\\boldsymbol{v}^2 = [v_1^2, \\ldots, v_D^2]$ je průběžný *nevychýlený* odhad očekávaného vektoru $\\boldsymbol{\\sigma^2}$, tj. $\\boldsymbol{v}^2 \\approx E[\\boldsymbol{\\sigma^2}]$\n",
    "- $\\alpha$ je vyhlazovací koeficient (reálné číslo) pamatování při odhadu průběžného průměru a rozptylu\n",
    "- $N / (N - 1)$ je tzv. Besselova korekce, viz pozn. Odhad rozptylu\n",
    "\n",
    "**Zpětný průchod**\n",
    "$$\n",
    "\\begin{split}\n",
    "    \\overline{\\boldsymbol{x}_n} & = \n",
    "        \\frac{\\boldsymbol{\\gamma}}{\\sqrt{\\boldsymbol{\\sigma}^2 + \\epsilon}} \\odot \\left(\n",
    "            \\overline{\\boldsymbol{z}_n}\n",
    "            - \\frac{1}{N}\\sum_{i=1}^N{\\overline{\\boldsymbol{z}_i}}\n",
    "            - \\frac{1}{N} \\hat{\\boldsymbol{x}}_n \\odot \\sum_{i=1}^N{\\overline{\\boldsymbol{z}_i}\\odot\\hat{\\boldsymbol{x}}_i}\n",
    "        \\right) \\\\\n",
    "    \\overline{\\boldsymbol{\\gamma}} & = \\sum_{n=1}^N{ \\overline{\\boldsymbol{z}}_n \\odot \\hat{\\boldsymbol{x}}_n } \\\\\n",
    "    \\overline{\\boldsymbol{\\beta}} & =\\sum_{n=1}^N{ \\overline{\\boldsymbol{z}}_n }\n",
    "\\end{split}\n",
    "$$\n",
    "- $\\overline{\\boldsymbol{z}_n} = [\\overline{y_{n1}}, \\ldots, \\overline{z_{nD}}]$ je příchozí gradient na výstup $\\boldsymbol{z}_n$ jako (řádkový) vektor s rozměrem $D$\n",
    "- $\\overline{\\boldsymbol{x}_n} = [\\overline{x_{n1}}, \\ldots, \\overline{x_{nD}}]$ je výsledný odchozí gradient na vstup $\\boldsymbol{x}_n$ jako (řádkový) vektor s rozměrem $D$\n",
    "- $\\overline{\\boldsymbol{\\gamma}} = [\\overline{\\gamma_1}, \\ldots, \\overline{\\gamma_D}]$ je výsledný odchozí gradient na $\\boldsymbol{\\gamma}$ jako vektor s rozměrem $D$\n",
    "- $\\overline{\\boldsymbol{\\beta}} = [\\overline{\\beta_1}, \\ldots, \\overline{\\beta_D}]$ je výsledný odchozí gradient na $\\boldsymbol{\\beta}$ jako vektor s rozměrem $D$\n",
    "\n",
    "**Dopředný průchod v testovacím režimu**\n",
    "\n",
    "V testovacím režimu nepočítáme statistiky z dávky, ale použijeme odhady $\\boldsymbol{m}$ a $\\boldsymbol{v}^2$ z trénovací fáze. Zároveň nedochází k jejich aktualizaci.\n",
    "$$\n",
    "\\begin{split}\n",
    "    \\hat{\\boldsymbol{x}}_n & = \\frac{\\boldsymbol{x}_n - \\boldsymbol{m}}{\\sqrt{\\boldsymbol{v}^2 + \\epsilon}} \\\\\n",
    "    \\boldsymbol{z}_n & = \\boldsymbol{\\gamma} \\odot \\hat{\\boldsymbol{x}}_n + \\boldsymbol{\\beta}\n",
    "\\end{split}\n",
    "$$\n",
    "\n",
    "**Zpětný průchod v testovacím režimu**\n",
    "$$\n",
    "\\overline{\\boldsymbol{x}_n} = \\frac{\\boldsymbol{\\gamma}}{\\sqrt{\\boldsymbol{\\sigma}^2 + \\epsilon}} \\odot \\overline{\\boldsymbol{z}_n}\n",
    "$$\n",
    "\n",
    "**Odhad rozptylu**\n",
    "\n",
    "V PyTorchi pozor na odhad rozptylu metodou `var`. Ve výchozím režimu počítá tzv. nevychýlený odhad, kdy se namísto $1/N$ dělí $1/(N-1)$, viz [Besselova korekce](https://en.wikipedia.org/wiki/Bessel%27s_correction). Batch normalizace ale přitom používá vychýlený odhad $\\boldsymbol{\\sigma}^2$ a do funkce [torch.var](https://pytorch.org/docs/stable/generated/torch.var.html) je proto nutné explicitně zadat `unbiased=False`.\n",
    "\n",
    "Při výpočtu průběžného rozptylu $\\boldsymbol{v^2}$ Pytorch přenásobí odhad $\\boldsymbol{\\sigma}^2$ zmíněnou Besselovou korekcí $N / (N - 1)$. Nejedná se o nekonzistentní chování ani chybu. Důvod je ten,  že $\\boldsymbol{v^2}$ se snaží odhadovat skutečný očekávaný rozptyl dávky, tzn. $\\boldsymbol{v}^2 \\approx E[\\boldsymbol{\\sigma^2}]$, a ten je nejpřesnější jako nevychýlený.\n",
    "\n",
    "Dokumentace Pytorch verze 1.13.0 obsahuje neúplné informace, viz [https://github.com/pytorch/pytorch/issues/77427](https://github.com/pytorch/pytorch/issues/77427)."
   ]
  },
  {
   "cell_type": "markdown",
   "id": "c1c18c7b-add6-4592-852c-44ec6b811813",
   "metadata": {},
   "source": [
    "### TODO: implementujte funkci `ans.functional.BatchNorm1d` a vrstvu `ans.modules.BatchNorm1d`"
   ]
  },
  {
   "cell_type": "code",
   "execution_count": null,
   "id": "9cf401b9-450c-4035-8145-271de68bafe9",
   "metadata": {},
   "outputs": [],
   "source": [
    "ans.autograd.gradcheck(\n",
    "    ans.functional.BatchNorm1d.apply,\n",
    "    (\n",
    "        randn_var(8, 4, mean=1., std=2., name='input'),\n",
    "        randn_var(4, name='gamma'),\n",
    "        randn_var(4, name='beta')\n",
    "    ),\n",
    "    params=dict(training=True)\n",
    ")"
   ]
  },
  {
   "cell_type": "code",
   "execution_count": null,
   "id": "043aa6e6-307e-4a81-b71c-61ffa857ce19",
   "metadata": {},
   "outputs": [],
   "source": [
    "ans.autograd.gradcheck(\n",
    "    ans.functional.BatchNorm1d.apply,\n",
    "    (\n",
    "        randn_var(8, 4, mean=1., std=2., name='input'),\n",
    "        randn_var(4, name='gamma'),\n",
    "        randn_var(4, name='beta'),\n",
    "        torch.randn(4).double(),  # running_mean\n",
    "        torch.rand(4).double(),  # running_var\n",
    "    ),\n",
    "    params=dict(training=False)\n",
    ")"
   ]
  },
  {
   "cell_type": "code",
   "execution_count": null,
   "id": "9cb2218c-4ec6-4e72-992e-d8dfebed7fc3",
   "metadata": {},
   "outputs": [],
   "source": [
    "test_multilayer_perceptron.TestBatchNorm1d.eval()"
   ]
  },
  {
   "cell_type": "code",
   "execution_count": null,
   "id": "75325358-a197-406c-be7d-36972819ff81",
   "metadata": {},
   "outputs": [],
   "source": [
    "# main loop"
   ]
  },
  {
   "cell_type": "code",
   "execution_count": null,
   "id": "b2d98010-6fb9-471b-b97a-1f024adbe139",
   "metadata": {},
   "outputs": [],
   "source": [
    "print(history.best_results('val_acc', 'max'))\n",
    "history.df().plot(secondary_y=['train_acc', 'val_acc']);"
   ]
  },
  {
   "cell_type": "markdown",
   "id": "dd1daa14-a24e-4317-9804-11f98e6f608a",
   "metadata": {},
   "source": [
    "## Dropout"
   ]
  },
  {
   "cell_type": "markdown",
   "id": "6a9ec7c5-5533-4013-b1d8-1f8f3cb3365f",
   "metadata": {},
   "source": [
    "Vedle klasické L2 regularizace (parametr `weight_decay` v optimizéru) je možné použít i tzv. dropout. Operaci aplikujeme na všechny prvky vstupu nezávisle na sobě. Implementujeme tzv. [inverted dropout](https://stats.stackexchange.com/questions/205932/dropout-scaling-the-activation-versus-inverting-the-dropout), tedy verzi, kdy ke škálování výstupu dochází již v trénovací fázi a testovací režim se chová jako identita.\n",
    "\n",
    "**Dopředný průchod**\n",
    "\n",
    "$$\n",
    "\\begin{split}\n",
    "    m & \\sim \\mathcal{U}\\left[ 0, 1 \\right] \\\\\n",
    "    z & = \\begin{cases}\n",
    "        0 & \\textrm{pokud} & m \\lt p \\\\\n",
    "        \\frac{x}{1 - p} & \\textrm{pokud} & m \\ge p \\\\\n",
    "    \\end{cases}\n",
    "\\end{split}\n",
    "$$\n",
    "- $x$ je reálné číslo (skalár)\n",
    "- $z$ je reálné číslo (skalár)\n",
    "- $m$ je reálné číslo náhodně vybrané z intervalu $[0, 1]$\n",
    "- $p$ je reálné číslo (skalár) určující pravděpodobnost, s jakou dojde k vynulování $x$\n",
    "\n",
    "**Zpětný průchod**\n",
    "\n",
    "$$\n",
    "\\overline{x} = \\begin{cases}\n",
    "    0 & \\textrm{pokud} & m \\lt p \\\\\n",
    "    \\frac{\\overline{z}}{1 - p} & \\textrm{pokud} & m \\ge p \\\\\n",
    "\\end{cases}\n",
    "$$\n",
    "- $\\overline{z}$ je příchozí gradient na $z$\n",
    "\n",
    "**Dopředný průchod v testovacím režimu**\n",
    "\n",
    "$$\n",
    "z = x\n",
    "$$\n",
    "\n",
    "**Zpětný průchod v testovacím režimu**\n",
    "$$\n",
    "\\overline{x} = \\overline{z}\n",
    "$$"
   ]
  },
  {
   "cell_type": "markdown",
   "id": "933755d5-f0af-492d-86a1-e09f11f8242a",
   "metadata": {},
   "source": [
    "### TODO: implementujte funkci `ans.functional.Dropout` a vrstvu `ans.modules.Dropout`"
   ]
  },
  {
   "cell_type": "code",
   "execution_count": null,
   "id": "c8e8681c-580c-46c9-8ed0-665fb3c7e039",
   "metadata": {},
   "outputs": [],
   "source": [
    "ans.autograd.gradcheck(\n",
    "    ans.functional.Dropout.apply,\n",
    "    (\n",
    "        randn_var(8, 4, name='input')\n",
    "    ),\n",
    "    params=dict(training=True, seed=42)\n",
    ")"
   ]
  },
  {
   "cell_type": "code",
   "execution_count": null,
   "id": "c8c600da-537a-4a6a-aaef-c4c0ba37d354",
   "metadata": {},
   "outputs": [],
   "source": [
    "ans.autograd.gradcheck(\n",
    "    ans.functional.Dropout.apply,\n",
    "    (\n",
    "        randn_var(8, 4, name='input')\n",
    "    ),\n",
    "    params=dict(training=False, seed=42)\n",
    ")"
   ]
  },
  {
   "cell_type": "code",
   "execution_count": null,
   "id": "fbda7904-ef8e-470b-adae-5450578ea234",
   "metadata": {},
   "outputs": [],
   "source": [
    "test_multilayer_perceptron.TestDropout.eval()"
   ]
  },
  {
   "cell_type": "code",
   "execution_count": null,
   "id": "502a393b-ffbb-451d-9d5c-caa8a52ca39a",
   "metadata": {},
   "outputs": [],
   "source": [
    "# main loop"
   ]
  },
  {
   "cell_type": "code",
   "execution_count": null,
   "id": "1aef5777-dba2-4f81-87b0-516d84890759",
   "metadata": {},
   "outputs": [],
   "source": [
    "print(history.best_results('val_acc', 'max'))\n",
    "history.df().plot(secondary_y=['train_acc', 'val_acc']);"
   ]
  },
  {
   "cell_type": "markdown",
   "id": "8d3c7777-5349-4b4a-931e-b8cbf99a9b38",
   "metadata": {},
   "source": [
    "## Adaptive Momentum (Adam)"
   ]
  },
  {
   "cell_type": "markdown",
   "id": "d187cb18-c9d5-4a72-a47c-286bdce5bc0d",
   "metadata": {},
   "source": [
    "**Pravidlo updatu parametru**\n",
    "\n",
    "$$\n",
    "\\begin{split}\n",
    "    t & := t + 1 \\\\\n",
    "    \\widehat{\\theta}_t & := \\overline{\\theta}_t + \\lambda \\cdot \\theta_t \\\\\n",
    "    m_t & := \\beta_1 \\cdot m_{t-1} + (1 - \\beta_1) \\cdot \\widehat{\\theta}_t \\\\\n",
    "    v_t & := \\beta_2 \\cdot v_{t-1} + (1 - \\beta_2) \\cdot \\widehat{\\theta}_t^2 \\\\\n",
    "    \\widehat{m}_t & := \\frac{m_t}{1 - \\beta_1^t} \\\\\n",
    "    \\widehat{v}_t & := \\frac{v_t}{1 - \\beta_2^t} \\\\\n",
    "    \\theta_{t} & := \\theta_{t-1} - \\gamma \\cdot \\frac{\\widehat{m}_t}{\\sqrt{\\widehat{v}_t} + \\epsilon}\n",
    "\\end{split}\n",
    "$$\n",
    "- všechny proměnné jsou reálná čísla a mají podobný význam jako u SGD\n",
    "- $v$ a $u$ jsou buffery, které se mezi jednotlivými iteracemi předávají\n",
    "\n",
    "Hyperparametry metody jsou\n",
    "- learning rate $\\gamma$\n",
    "- weight decay $\\lambda$\n",
    "- alpha $\\alpha \\in [0, 1]$\n",
    "- beta $\\beta \\in [0, 1]$\n",
    "- epsilon $\\epsilon \\approx 10^{-8}$\n",
    "\n"
   ]
  },
  {
   "cell_type": "markdown",
   "id": "b5d9ef7b-fa32-4956-8deb-474383e5f3ed",
   "metadata": {},
   "source": [
    "### TODO: implementujte optimizér `ans.optim.Adam`"
   ]
  },
  {
   "cell_type": "code",
   "execution_count": null,
   "id": "630bfb0e",
   "metadata": {},
   "outputs": [],
   "source": [
    "test_multilayer_perceptron.TestAdam.eval()"
   ]
  },
  {
   "cell_type": "code",
   "execution_count": null,
   "id": "7536c5f4-ad83-462a-8c97-66e12c59558d",
   "metadata": {},
   "outputs": [],
   "source": [
    "# main loop"
   ]
  },
  {
   "cell_type": "code",
   "execution_count": null,
   "id": "17f9dca5-ecdd-4e0a-897e-2053f8de09d4",
   "metadata": {},
   "outputs": [],
   "source": [
    "print(history.best_results('val_acc', 'max'))\n",
    "history.df().plot(secondary_y=['train_acc', 'val_acc']);"
   ]
  }
 ],
 "metadata": {
  "kernelspec": {
   "display_name": "ans22",
   "language": "python",
   "name": "ans22"
  },
  "language_info": {
   "codemirror_mode": {
    "name": "ipython",
    "version": 3
   },
   "file_extension": ".py",
   "mimetype": "text/x-python",
   "name": "python",
   "nbconvert_exporter": "python",
   "pygments_lexer": "ipython3",
   "version": "3.9.13"
  },
  "vscode": {
   "interpreter": {
    "hash": "05e1de94e3d7b977588390a98a576766cee302f1869cb8e2c328c0a63ae06e61"
   }
  }
 },
 "nbformat": 4,
 "nbformat_minor": 5
}
