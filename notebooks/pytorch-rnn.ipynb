{
 "cells": [
  {
   "attachments": {},
   "cell_type": "markdown",
   "metadata": {},
   "source": [
    "# Generování textu pomocí znakového jazykového modelu"
   ]
  },
  {
   "attachments": {},
   "cell_type": "markdown",
   "metadata": {},
   "source": [
    "V notebooku si ukážeme, jak se pracuje s rekurentními sítěmi v knihovně PyTorch a použijeme je ke generování textu pomocí znakového jazykového modelu.\n",
    "\n",
    "**Trénování jako klasifikace**\n",
    "\n",
    "Trénování jazykového modelu formulujeme jako klasifikaci s učitelem. Každý znak každého řádku textu bude představovat jeden trénovací vzorek $(x, y)$, ve kterém\n",
    "- vstupem $x$ je $t$-tý znak $s_t$ na aktuálním řádku\n",
    "- a očekávaným výstupem $y$ (targetem) je následující znak $s_{t+1}$ na tomtéž řádku.\n",
    "\n",
    "Pokud by např. celý náš datset bylo jediné slovo \"ahoj\", trénovací páry $(x, y)$ by mohly být tři: `('a', 'h')`, `('h', 'o')`, `('o', 'j')`.\n",
    "\n",
    "**Sekvenční závislost**\n",
    "\n",
    "Aby se model mohl naučil sekvenční závislosti, použijeme rekurentní síť se skrytým stavem $h$, který se bude během zpracovávání jednotlivých trénovacích párů aktualizovat a předávat dále. Sekvence více vzorků tedy nebudou tvořit paralelně zpracovatelné dávky vzájemně nezávislých párů $(x, y)$ jako např. obrázky a jejich třídy u CIFAR-10, u kterých nezáleží na pořadí. Zde každý znak $s_t$ považujeme za závislý na předchozích znacích $s_1, \\ldots, s_{t-1}$ ze stejného řádku a odpovídající páry $(x, y)$ bude proto nutné zpracovávat \"sériově\" tak, jak po sobě znaky následují v textu. Skrytý stav se pak bude inicializovat vždy na začátku každé nové sekvence (řádku), jelikož jednolitvé řádky již považujeme za vzájemně nezávislé. Trénovací API modelu si proto navrhneme tak, aby jako vstup nepřijímal pouze jeden znak $s$, ale namísto toho\n",
    "- sekvenci $\\boldsymbol{s}_{:-1} = (s_1, \\ldots, s_{T-1})$, tj. celý řádek textu kromě *posledního* znaku\n",
    "\n",
    "a jako target byla\n",
    "- sekvence $\\boldsymbol{s}_{2:} = (s_2, \\ldots, s_T)$, tj. celý řádek kromě *prvního* znaku.\n",
    "\n",
    "Trénovacím párem $(\\boldsymbol{x}, \\boldsymbol{y})$ tak může být např. dvojice `('aho', 'hoj')`.\n",
    "\n",
    "**Okrajové podmínky**\n",
    "\n",
    "Abychom vyřešili okrajové podmínky, každému nadpisu na začátek i konec přidáme speciální START/STOP token. Abychom ho odlišili od ostatních znaků, zvolíme pro něj např. znak `'.'`.\n",
    "- START/STOP token bude vždy prvním vstupem a jeho targetem bude první znak sekvence $s_1$. Rovněž při generování jako první vždy do sítě půjde START/STOP token a nebudeme tak muset jako uživatel určovat, kterým znakem má text začínat.\n",
    "- START/STOP token bude také targetem pro poslední znak sekvence $s_T$. Token zajistí, že jako uživatel nebudeme při generování muset určovat, jak dlouhý má vymyšlený text být. Generovat budeme do chvíle, dokud predikovaným znakem nebude `'.'`.\n",
    "- Token bychom mohli rozdělit na dva samostatné, tj. START a STOP, jak se obvykle uvádí. V takovém případě by ale START token jako první znak vstupu nikdy nemohl být targetem a výstupních tříd modelu by tak mělo být o jednu méně než počet znaků. Pro jednoduchost tedy ponecháme START a STOP tokeny spojené.\n",
    "\n",
    "Trénovacím párem $(\\boldsymbol{x}, \\boldsymbol{y})$ tak nakonec po všech úpravách může být např. dvojice `('.ahoj', 'ahoj.')`, což odpovídá pěti vzorkům `('.', 'a')`, `('a', 'h')`, `('h', 'o')`, `('o', 'j')`, `('j', '.')`, mezi kterými se bude předávat skrytý stav."
   ]
  },
  {
   "cell_type": "code",
   "execution_count": 1,
   "metadata": {},
   "outputs": [],
   "source": [
    "import random\n",
    "import time\n",
    "from typing import Optional\n",
    "import warnings\n",
    "\n",
    "import matplotlib.pyplot as plt\n",
    "import numba\n",
    "import numpy as np\n",
    "import pandas as pd\n",
    "import seaborn as sns\n",
    "import torch"
   ]
  },
  {
   "cell_type": "code",
   "execution_count": 2,
   "metadata": {},
   "outputs": [],
   "source": [
    "sns.set()\n",
    "torch.set_printoptions(threshold=400, edgeitems=4, profile='short')\n",
    "warnings.simplefilter('ignore', category=numba.core.errors.NumbaPendingDeprecationWarning)"
   ]
  },
  {
   "attachments": {},
   "cell_type": "markdown",
   "metadata": {},
   "source": [
    "# Data"
   ]
  },
  {
   "attachments": {},
   "cell_type": "markdown",
   "metadata": {},
   "source": [
    "Data, která budeme generovat, jsou nadpisy článků z portálu novinky.cz nasbírané v letech 2014-2018. Všechny nadpisy jsou uloženy v jediném textovém souboru `headlines.txt` a to po jednotlivých řádcích. Pro jednoduchost z textu byla odstraněna interpunkce a diakritika. Jelikož celý text zabírá pouze cca 5 MB, načteme jej do paměti celý."
   ]
  },
  {
   "cell_type": "code",
   "execution_count": 3,
   "metadata": {},
   "outputs": [
    {
     "data": {
      "text/plain": [
       "['v anglii se pysni novymi prirustky ohrozeneho levharta snezneho',\n",
       " 'afera s naklady na dopravu stala americkeho ministra zdravotnictvi kreslo',\n",
       " 'soud potvrdil silnicnimu piratovi za zbesilou jizdu 8 5 roku vezeni',\n",
       " 'ods s ano chteji skoncovat se zakazem prodeje o svatcich',\n",
       " 'internet je samozrejmosti pro vetsinu domacnosti v cesku',\n",
       " 'usa obratily uz netrvaji na sesazeni asada',\n",
       " 'ridic vjel doprostred dejvickeho kulataku ze strechy auta ho policiste dostavali nasilim',\n",
       " 'tesco celi vysetrovani kvuli problematickemu ucetnictvi',\n",
       " 'babis okd lze resit odkoupenim dluhu nebo spolecnou firmou',\n",
       " 'kytarista peter holmstrom hudba je vsude kolem']"
      ]
     },
     "execution_count": 3,
     "metadata": {},
     "output_type": "execute_result"
    }
   ],
   "source": [
    "lines = open('../data/headlines.txt').readlines()\n",
    "lines = [l.strip() for l in lines if l.strip()]  # remove empty lines\n",
    "lines[:10]"
   ]
  },
  {
   "attachments": {},
   "cell_type": "markdown",
   "metadata": {},
   "source": [
    "Pro jednoduchost a lepší názornost ukázek a také snadnější ověření funkčnosti overfitem si ponecháme pouze 10 nejkratších nadpisů."
   ]
  },
  {
   "cell_type": "code",
   "execution_count": 4,
   "metadata": {},
   "outputs": [
    {
     "data": {
      "text/plain": [
       "['omluva',\n",
       " 'puc v zimbabwe',\n",
       " 'hudba jako lek',\n",
       " 'smog na zlinsku',\n",
       " 'jak na kocovinu',\n",
       " 'zemrel b b king',\n",
       " 'coetzee v praze',\n",
       " 'prvni jarni den',\n",
       " 'miluji te modre',\n",
       " 'zeman je v cine']"
      ]
     },
     "execution_count": 4,
     "metadata": {},
     "output_type": "execute_result"
    }
   ],
   "source": [
    "overfit_lines = sorted(lines, key=lambda l: len(l))\n",
    "overfit_lines = overfit_lines[:10]\n",
    "overfit_lines"
   ]
  },
  {
   "attachments": {},
   "cell_type": "markdown",
   "metadata": {},
   "source": [
    "# Embedding"
   ]
  },
  {
   "attachments": {},
   "cell_type": "markdown",
   "metadata": {},
   "source": [
    "Neuronové sítě, reurentní nevyjímaje, nejlépe pracují se vtupy jako vektory či matice reálných čísel. Proces převedení indexu nějakého tokenu (např. slova či znaku) na vektor se obvykle označuje jako tzv. embedding a v knihovně PyTorch ho obstarává modul `torch.nn.Embedding`. V principu modul provádí\n",
    "\n",
    "$$\n",
    "\\boldsymbol{x} = \\textrm{embedding}(i)\n",
    "$$\n",
    "kde\n",
    "- $i \\ge 0$ je přirozené číslo\n",
    "- $\\boldsymbol{x}$ je vektor o rozměru $D$, přičemž $D$ si určuje uživatel."
   ]
  },
  {
   "attachments": {},
   "cell_type": "markdown",
   "metadata": {},
   "source": [
    "## Znaky jako čísla"
   ]
  },
  {
   "attachments": {},
   "cell_type": "markdown",
   "metadata": {},
   "source": [
    "\n",
    "Jako první krok tedy potřebujeme reprezentovat znaky jako čísla. Nejprve vytvoříme seznam všech unikátních znaků a to včetně dvou speciálního oddělovacího START/STOP tokenu."
   ]
  },
  {
   "cell_type": "code",
   "execution_count": 5,
   "metadata": {},
   "outputs": [
    {
     "data": {
      "text/plain": [
       "(38, '. 0123456789abcdefghijklmnopqrstuvwxyz')"
      ]
     },
     "execution_count": 5,
     "metadata": {},
     "output_type": "execute_result"
    }
   ],
   "source": [
    "delimiter = '.'\n",
    "chars = [delimiter] + sorted(set(''.join(lines)))  # delimiter first\n",
    "len(chars), ''.join(chars)"
   ]
  },
  {
   "attachments": {},
   "cell_type": "markdown",
   "metadata": {},
   "source": [
    "Každému znaku přiřadíme číslo (index) a vytvořime si převodní slovník `chr2idx` mapující znak na jeho odpovídající index. Jelikož pro lepší efektivitu kódu textový preprocessing zkompilujeme pomocí knihovny Numba, použijeme speciální typovaný slovník `numba.typed.Dict`."
   ]
  },
  {
   "cell_type": "code",
   "execution_count": 6,
   "metadata": {},
   "outputs": [
    {
     "data": {
      "text/plain": [
       "DictType[unicode_type,int64]<iv=None>({.: 0,  : 1, 0: 2, 1: 3, 2: 4, 3: 5, 4: 6, 5: 7, 6: 8, 7: 9, 8: 10, 9: 11, a: 12, b: 13, c: 14, d: 15, e: 16, f: 17, g: 18, h: 19, i: 20, j: 21, k: 22, l: 23, m: 24, n: 25, o: 26, p: 27, q: 28, r: 29, s: 30, t: 31, u: 32, v: 33, w: 34, x: 35, y: 36, z: 37})"
      ]
     },
     "execution_count": 6,
     "metadata": {},
     "output_type": "execute_result"
    }
   ],
   "source": [
    "# chr2idx = {c: i for i, c in enumerate(chars)}  # won't work with numba.jit(nopython=True)\n",
    "chr2idx = numba.typed.Dict()\n",
    "for i, c in enumerate(chars):\n",
    "    chr2idx[c] = i\n",
    "chr2idx"
   ]
  },
  {
   "attachments": {},
   "cell_type": "markdown",
   "metadata": {},
   "source": [
    "## Dávkové zpracování funkcí `lines2indices`"
   ]
  },
  {
   "attachments": {},
   "cell_type": "markdown",
   "metadata": {},
   "source": [
    "Vytvoříme si funkci `lines2indices`, která nám převede celou větu (nadpis) do sekvence indexů reprezentovanou jako `torch.Tensor`. Zároveň na začátek a konec sekvence přidá oddělovací START/STOP token. Jelikož budeme pro trénování sítě používat optimalizační metody založené na mini-dávkách, bude funkce jako vstupní argument přebírat `list` několika $N$ nadpisů a vrátí matici o rozměru $N \\times T$, ve které $n$-tý řádek bude sekvence indexů pro $n$-tý nadpis v dávce.\n",
    "\n",
    "Nadpisy samozřejmě nemusejí být stejně dlouhé a každá sekvence (vektor) indexů pak bude mít jiný rozměr. Matici proto vytvoříme tak velkou, aby pojala všechny sekvence celé a $T$ tedy bude rovno délce nejdelší sekvence v dávce. Sekvence kratší než $T$ doplníme o nastavenou hodnotu -1 (padding), kterou později budeme ignorovat.\n",
    "\n",
    "Pro přlibližně dvojnásobné urychlení trénování funkci zkompilujeme pomocí knihovny Numba, k čemuž stačí ji pouze dekorovat zavoláním `@numba.jit`. Neývhodou knihovny Numba ovšem je, že nepodporuje tensory PyTorch, a tak budeme muset výsledek manuálně převést pomocí `torch.from_numpy`."
   ]
  },
  {
   "cell_type": "code",
   "execution_count": 7,
   "metadata": {},
   "outputs": [],
   "source": [
    "@numba.jit(nopython=True)\n",
    "def lines2indices_numpy(lines, chr2idx, padding=-1):\n",
    "    max_len = max([len(l) for l in lines])\n",
    "    output = np.empty((len(lines), 2 + max_len), dtype=np.int64)  # (N, T)\n",
    "    output.fill(padding)\n",
    "    output[:, 0] = chr2idx[delimiter]  # START\n",
    "    for i, line in enumerate(lines):\n",
    "        for j in range(min(max_len, len(line))):\n",
    "            output[i, j + 1] = chr2idx[line[j]]\n",
    "        output[i, len(line) + 1] = chr2idx[delimiter]  # STOP\n",
    "    return output\n",
    "\n",
    "def lines2indices(lines: list[str], chr2idx: dict[str, int], padding: int = -1) -> torch.Tensor:\n",
    "    return torch.from_numpy(lines2indices_numpy(lines, chr2idx, padding=padding))"
   ]
  },
  {
   "cell_type": "code",
   "execution_count": 8,
   "metadata": {},
   "outputs": [
    {
     "data": {
      "text/plain": [
       "(torch.Size([10, 17]),\n",
       " tensor([[ 0, 26, 24, 23, 32, 33, 12,  0, -1, -1, -1, -1, -1, -1, -1, -1, -1],\n",
       "         [ 0, 27, 32, 14,  1, 33,  1, 37, 20, 24, 13, 12, 13, 34, 16,  0, -1],\n",
       "         [ 0, 19, 32, 15, 13, 12,  1, 21, 12, 22, 26,  1, 23, 16, 22,  0, -1],\n",
       "         [ 0, 30, 24, 26, 18,  1, 25, 12,  1, 37, 23, 20, 25, 30, 22, 32,  0],\n",
       "         [ 0, 21, 12, 22,  1, 25, 12,  1, 22, 26, 14, 26, 33, 20, 25, 32,  0],\n",
       "         [ 0, 37, 16, 24, 29, 16, 23,  1, 13,  1, 13,  1, 22, 20, 25, 18,  0],\n",
       "         [ 0, 14, 26, 16, 31, 37, 16, 16,  1, 33,  1, 27, 29, 12, 37, 16,  0],\n",
       "         [ 0, 27, 29, 33, 25, 20,  1, 21, 12, 29, 25, 20,  1, 15, 16, 25,  0],\n",
       "         [ 0, 24, 20, 23, 32, 21, 20,  1, 31, 16,  1, 24, 26, 15, 29, 16,  0],\n",
       "         [ 0, 37, 16, 24, 12, 25,  1, 21, 16,  1, 33,  1, 14, 20, 25, 16,  0]]))"
      ]
     },
     "execution_count": 8,
     "metadata": {},
     "output_type": "execute_result"
    }
   ],
   "source": [
    "# call this twice to remove the warnings\n",
    "ids = lines2indices(overfit_lines, chr2idx)  # (N, T)\n",
    "ids.shape, ids"
   ]
  },
  {
   "attachments": {},
   "cell_type": "markdown",
   "metadata": {},
   "source": [
    "## One-hot embedding"
   ]
  },
  {
   "attachments": {},
   "cell_type": "markdown",
   "metadata": {},
   "source": [
    "Jak je uvedeno výše, modul `torch.nn.Embedding` je vrstva neuronové sítě, která jako vstup přijímá celé číslo (index) a vrací odpovídající embedding vektor. V praxi jsou vektory považovány za trénovatelný parametr a všechny uspořádany jako jediná váhová matice `weight` o tvaru `(num_tokens, embedding_size)`. Pokud je vstupem číslo `i: int`, modul `torch.nn.Embedding` pak nedělá nic jiného, než že vrátí `i`-tý řádek své matice `weight`, tj. `return weight[i]`. Parametr `i` může být libovolně rozměrný tensor, např. $N \\times T$. Modul `torch.nn.Embedding` v takovém případě vrátí tensor vektorů pro každý z indexů tensoru `i` a výstup tak bude mít o jeden rozměr navíc, tj. např. $N \\times T \\times D$, kde $D$ je rozměr embedding vektoru (`embedding_size`).\n",
    "\n",
    "Modul `torch.nn.Embedding` inicializuje vektory na náhodně hodnoty, protože předpokládá jejich optimalizaci. V našem jednoduchém případě s omezeným datasetem ovšem embeddingy trénovat nebudeme a ponecháme je jako konstanty. O něco lepších výsledků pak ale dosáhneme s one-hot vektory. Zadefinujeme si proto vlastní netrénovatelný embedding `OneHotEmbedding`, ve kterém váhy budou jednotková matice s rozměry $C \\times C$ (shape `(num_tokens, num_tokens)`), kde $C$ je počet znaků."
   ]
  },
  {
   "cell_type": "code",
   "execution_count": 9,
   "metadata": {},
   "outputs": [],
   "source": [
    "class OneHotEmbedding(torch.nn.Module):\n",
    "\n",
    "    def __init__(self, size: int) -> None:\n",
    "        super().__init__()\n",
    "        self.chars = chars\n",
    "        self.register_buffer('weight', torch.eye(size))\n",
    "    \n",
    "    def forward(self, ids: torch.Tensor) -> torch.Tensor:\n",
    "        shape = ids.shape  # e.g. (N, T)\n",
    "        ids = ids.ravel()  # (N*T,)\n",
    "        vectors = self.weight[ids]  # (N*T, D)\n",
    "        return vectors.reshape(*shape, -1)  # (N, T, D)"
   ]
  },
  {
   "cell_type": "code",
   "execution_count": 10,
   "metadata": {},
   "outputs": [
    {
     "data": {
      "text/plain": [
       "(10, 17, 38)"
      ]
     },
     "execution_count": 10,
     "metadata": {},
     "output_type": "execute_result"
    }
   ],
   "source": [
    "embedding = OneHotEmbedding(len(chars))\n",
    "inputs = embedding(ids.clamp(min=0))\n",
    "batch_size, sequence_length, input_size = inputs.shape\n",
    "batch_size, sequence_length, input_size  # (N, T, D)"
   ]
  },
  {
   "attachments": {},
   "cell_type": "markdown",
   "metadata": {},
   "source": [
    "# Rekurentní sítě v knihovně PyTorch"
   ]
  },
  {
   "attachments": {},
   "cell_type": "markdown",
   "metadata": {},
   "source": [
    "PyTorch implementuje tři nejčastěji používané typy rekurentních sítí: základní Reccurent Neural Network (RNN), Gated Recurrent Unit (GRU) a Long Short-Term Memory (LSTM). Základními a nejjednoduššími stavebními prvky jsou odpovídající vsrtvy `RNNCell`, `GRUCell` a `LSTMCell` v modulu `torch.nn`. Jejich API je téměr shodné.\n",
    "\n",
    "Rekurentní \"buňku\" vytvoříme jako objekt, kterému předáme\n",
    "- rozměr $D$ vstupních vektorů $\\boldsymbol{x}_n$\n",
    "- rozměr $H$ vektorů skrytých stavů $\\boldsymbol{h}_{t,n}$.\n",
    "\n",
    "Protože používáme one-hot embedding, bude v našem případě $D = C$ = `len(chars)`. $H$ si zvolíme např. 64."
   ]
  },
  {
   "cell_type": "code",
   "execution_count": 11,
   "metadata": {},
   "outputs": [
    {
     "data": {
      "text/plain": [
       "RNNCell(38, 64)"
      ]
     },
     "execution_count": 11,
     "metadata": {},
     "output_type": "execute_result"
    }
   ],
   "source": [
    "hidden_size = 64\n",
    "cell = torch.nn.RNNCell(len(chars), hidden_size)\n",
    "cell"
   ]
  },
  {
   "attachments": {},
   "cell_type": "markdown",
   "metadata": {},
   "source": [
    "Dopředný průchod `RNNCell.forward` očekává\n",
    "- vstup $\\boldsymbol{x}$ (parametr `input`) jako vektor s rozměrem $D$\n",
    "- a nepovinně také výchozí skrytý vektor $\\boldsymbol{h}$ (parametr `hidden`) jako vektor s rozměrem $H$. Pokud parametr `hidden` není předán, je automaticky inicializován na nulový vektor.\n",
    "\n",
    "Výstupem je nová hodnota skrytého stavu $\\boldsymbol{h}'$, tj. opět vektor s rozměrem $H$.\n",
    "\n",
    "Pošleme do buňky např. embeddingový vektor prvního znaku prvního nadpisu v datasetu:"
   ]
  },
  {
   "cell_type": "code",
   "execution_count": 12,
   "metadata": {},
   "outputs": [
    {
     "data": {
      "text/plain": [
       "tensor([1., 0., 0., 0., 0., 0., 0., 0., 0., 0., 0., 0., 0., 0., 0., 0., 0., 0.,\n",
       "        0., 0., 0., 0., 0., 0., 0., 0., 0., 0., 0., 0., 0., 0., 0., 0., 0., 0.,\n",
       "        0., 0.])"
      ]
     },
     "execution_count": 12,
     "metadata": {},
     "output_type": "execute_result"
    }
   ],
   "source": [
    "inputs[0, 0]  # (D,)"
   ]
  },
  {
   "cell_type": "code",
   "execution_count": 13,
   "metadata": {},
   "outputs": [
    {
     "data": {
      "text/plain": [
       "(torch.Size([64]),\n",
       " tensor([-0.15, -0.02, -0.15,  0.06,  0.13,  0.16, -0.05, -0.06,  0.03, -0.13,\n",
       "          0.07,  0.08, -0.09,  0.09,  0.00, -0.03,  0.04, -0.06,  0.17, -0.25,\n",
       "          0.19,  0.05, -0.07,  0.13, -0.12,  0.05, -0.04, -0.11,  0.00, -0.11,\n",
       "         -0.01, -0.00, -0.04, -0.04,  0.01, -0.00, -0.19, -0.06, -0.25, -0.15,\n",
       "         -0.02,  0.08,  0.10, -0.20, -0.06, -0.13,  0.03, -0.24,  0.00,  0.01,\n",
       "         -0.03, -0.09, -0.13,  0.11, -0.01, -0.03,  0.11,  0.09,  0.01,  0.21,\n",
       "          0.16,  0.06,  0.00, -0.03], grad_fn=<SqueezeBackward1>))"
      ]
     },
     "execution_count": 13,
     "metadata": {},
     "output_type": "execute_result"
    }
   ],
   "source": [
    "h1 = cell(inputs[0, 0])  # (H,)\n",
    "h1.shape, h1"
   ]
  },
  {
   "attachments": {},
   "cell_type": "markdown",
   "metadata": {},
   "source": [
    "Proces můžeme zopakovat i pro druhý znak. Zároveň pošleme aktualizovaný skrytý stav z předchozího kroku."
   ]
  },
  {
   "cell_type": "code",
   "execution_count": 14,
   "metadata": {},
   "outputs": [
    {
     "data": {
      "text/plain": [
       "tensor([-1.91e-01, -1.33e-01, -3.64e-03, -5.77e-02,  2.62e-01,  1.04e-01,\n",
       "         3.86e-02, -2.02e-01,  6.76e-03,  7.09e-02,  1.55e-01, -6.15e-02,\n",
       "        -2.37e-02,  1.59e-01,  1.20e-01, -1.74e-01, -6.84e-02, -1.22e-01,\n",
       "         3.15e-01, -2.77e-01,  2.41e-01, -6.45e-02, -8.94e-02,  1.37e-01,\n",
       "        -8.47e-03,  5.49e-02, -6.30e-02, -2.23e-01, -1.32e-01,  5.39e-02,\n",
       "         7.52e-02,  2.85e-01, -2.57e-01, -7.44e-02,  8.92e-02,  1.10e-01,\n",
       "         8.19e-04, -1.79e-01, -1.73e-01,  2.97e-03, -1.10e-01,  1.08e-01,\n",
       "         4.62e-02, -3.30e-01, -2.95e-01, -1.91e-01,  3.84e-02, -2.20e-01,\n",
       "         3.91e-02,  3.21e-02, -3.28e-04, -6.86e-02, -8.70e-02, -1.39e-01,\n",
       "         3.54e-01,  9.49e-02, -1.30e-01, -2.61e-02, -1.30e-02,  1.47e-01,\n",
       "         2.52e-02,  6.77e-02, -5.35e-02, -9.28e-02],\n",
       "       grad_fn=<SqueezeBackward1>)"
      ]
     },
     "execution_count": 14,
     "metadata": {},
     "output_type": "execute_result"
    }
   ],
   "source": [
    "h2 = cell(inputs[0, 1], h1)  # (H,)\n",
    "h2"
   ]
  },
  {
   "attachments": {},
   "cell_type": "markdown",
   "metadata": {},
   "source": [
    "Celou sekvenci včetně paddingu zpracujeme `for` cyklem:"
   ]
  },
  {
   "cell_type": "code",
   "execution_count": 15,
   "metadata": {},
   "outputs": [
    {
     "data": {
      "text/plain": [
       "(torch.Size([64]),\n",
       " tensor([-0.19, -0.01, -0.20, -0.08,  0.30,  0.24,  0.04, -0.10, -0.00, -0.13,\n",
       "          0.21, -0.00,  0.10,  0.05,  0.05, -0.10, -0.10, -0.22,  0.29, -0.42,\n",
       "          0.23, -0.02, -0.01,  0.15, -0.19,  0.09, -0.09, -0.21, -0.04, -0.00,\n",
       "          0.09,  0.13, -0.09, -0.15,  0.19, -0.09, -0.12, -0.05, -0.16, -0.22,\n",
       "          0.12, -0.01,  0.11, -0.27, -0.12, -0.23,  0.02, -0.23, -0.07, -0.03,\n",
       "         -0.02, -0.17, -0.08, -0.03,  0.17, -0.03, -0.01,  0.21,  0.09,  0.25,\n",
       "          0.16, -0.06, -0.14, -0.20], grad_fn=<SqueezeBackward1>))"
      ]
     },
     "execution_count": 15,
     "metadata": {},
     "output_type": "execute_result"
    }
   ],
   "source": [
    "h = torch.zeros(hidden_size)  # (H,)\n",
    "for t in range(inputs.shape[1]):\n",
    "    h = cell(inputs[0, t], h)\n",
    "h.shape, h"
   ]
  },
  {
   "attachments": {},
   "cell_type": "markdown",
   "metadata": {},
   "source": [
    "Podobně jako ostatní moduly v knihovně PyTorch i `RNNCell` umožňuje také dávkové zpracování, tj. více sekvencí zároveň (paralelně). Do `RNNCell.forward` můžeme poslat vstup $\\boldsymbol{x}$ i jako matici tvaru $N \\times D$, kde každá sekvence představuje jeden řádek. Skrytý stav pak analogicky bude matice tvaru $N \\times H$ (každá sekvence má svůj vlastní skrytý stav)."
   ]
  },
  {
   "cell_type": "code",
   "execution_count": 16,
   "metadata": {},
   "outputs": [
    {
     "data": {
      "text/plain": [
       "(torch.Size([10, 64]),\n",
       " tensor([[-0.19, -0.01, -0.20, -0.08,  ...,  0.16, -0.06, -0.14, -0.20],\n",
       "         [-0.11, -0.04, -0.16, -0.07,  ...,  0.18, -0.05, -0.15, -0.14],\n",
       "         [-0.13, -0.09, -0.14, -0.09,  ...,  0.17, -0.05, -0.11, -0.12],\n",
       "         [-0.22, -0.10, -0.16, -0.08,  ...,  0.22, -0.04, -0.15, -0.12],\n",
       "         ...,\n",
       "         [-0.23, -0.11, -0.19,  0.07,  ...,  0.11,  0.02, -0.13, -0.18],\n",
       "         [-0.25, -0.04, -0.14,  0.05,  ...,  0.18,  0.03, -0.07, -0.17],\n",
       "         [-0.17, -0.06, -0.19,  0.04,  ...,  0.14,  0.01, -0.08, -0.23],\n",
       "         [-0.22, -0.09, -0.13, -0.03,  ...,  0.10,  0.00, -0.06, -0.18]],\n",
       "        grad_fn=<TanhBackward0>))"
      ]
     },
     "execution_count": 16,
     "metadata": {},
     "output_type": "execute_result"
    }
   ],
   "source": [
    "h = torch.zeros(batch_size, hidden_size)  # (N, H)\n",
    "for t in range(sequence_length):\n",
    "    h = cell(inputs[:, t], h)\n",
    "h.shape, h"
   ]
  },
  {
   "attachments": {},
   "cell_type": "markdown",
   "metadata": {},
   "source": [
    "## Moduly `RNN`, `GRU` a `LSTM`"
   ]
  },
  {
   "attachments": {},
   "cell_type": "markdown",
   "metadata": {},
   "source": [
    "Celou sekvenci najednou (i dávku sekvencí) bez nutnosti manuálně implementovat cyklus `for` lze zpracovat pomocí tříd `RNN`, `GRU` a `LSTM`. Podobně jako u tříd `*Cell`, při vytváření předáme rozměr vstupního vektoru $D$ a rozměr srkytého vektoru $H$. V našem případě zadáme ještě `batch_first=True`, viz dále.\n",
    "\n",
    "Abychom pro ilustraci dostali shodné výsledky jako u `RNNCell` výše, zkopíujeme navíc váhové matice a biasy z objektu `cell`."
   ]
  },
  {
   "cell_type": "code",
   "execution_count": 17,
   "metadata": {},
   "outputs": [
    {
     "data": {
      "text/plain": [
       "RNN(38, 64, batch_first=True)"
      ]
     },
     "execution_count": 17,
     "metadata": {},
     "output_type": "execute_result"
    }
   ],
   "source": [
    "rnn = torch.nn.RNN(len(chars), hidden_size, batch_first=True)\n",
    "rnn.weight_hh_l0.data.copy_(cell.weight_hh)\n",
    "rnn.weight_ih_l0.data.copy_(cell.weight_ih)\n",
    "rnn.bias_hh_l0.data.copy_(cell.bias_hh)\n",
    "rnn.bias_ih_l0.data.copy_(cell.bias_ih)\n",
    "rnn"
   ]
  },
  {
   "attachments": {},
   "cell_type": "markdown",
   "metadata": {},
   "source": [
    "Argument `batch_first=True` značí, že vstupy $\\boldsymbol{x}$ má `RNN.forward` očekávat jako třírozměrné tensory tvaru $N \\times T \\times D$, tj. např. 10 sekvencí $\\times$ délky $17$ $\\times$ rozměr vstupu 39. To odpovídá naší proměnné `inputs` vytvořené výše. Výchozí hodnotou při vynechání argumentu je ovšem `batch_first=False`, kde vstupy jsou očekávány jako tensory tvaru $T \\times N \\times D$. Výhodou výchozího nastavení je, že každý okamžik $t$ posloupnosti je pak dávka tvaru $N \\times D$, tj. `inputs[t].shape = (N, D)`.\n",
    "\n",
    "Celou dávku sekvencí zpracujeme rekurentní sítí jediným zavoláním dopředného průchodu a na rozdíl od `RNNCell` tedy není nutný `for` cyklus."
   ]
  },
  {
   "cell_type": "code",
   "execution_count": 18,
   "metadata": {},
   "outputs": [
    {
     "data": {
      "text/plain": [
       "(torch.Size([10, 17, 64]),\n",
       " torch.Size([1, 10, 64]),\n",
       " tensor([[[-0.19, -0.01, -0.20, -0.08,  ...,  0.16, -0.06, -0.14, -0.20],\n",
       "          [-0.11, -0.04, -0.16, -0.07,  ...,  0.18, -0.05, -0.15, -0.14],\n",
       "          [-0.13, -0.09, -0.14, -0.09,  ...,  0.17, -0.05, -0.11, -0.12],\n",
       "          [-0.22, -0.10, -0.16, -0.08,  ...,  0.22, -0.04, -0.15, -0.12],\n",
       "          ...,\n",
       "          [-0.23, -0.11, -0.19,  0.07,  ...,  0.11,  0.02, -0.13, -0.18],\n",
       "          [-0.25, -0.04, -0.14,  0.05,  ...,  0.18,  0.03, -0.07, -0.17],\n",
       "          [-0.17, -0.06, -0.19,  0.04,  ...,  0.14,  0.01, -0.08, -0.23],\n",
       "          [-0.22, -0.09, -0.13, -0.03,  ...,  0.10,  0.00, -0.06, -0.18]]],\n",
       "        grad_fn=<StackBackward0>))"
      ]
     },
     "execution_count": 18,
     "metadata": {},
     "output_type": "execute_result"
    }
   ],
   "source": [
    "outputs, hidden = rnn(inputs)\n",
    "outputs.shape, hidden.shape, hidden"
   ]
  },
  {
   "attachments": {},
   "cell_type": "markdown",
   "metadata": {},
   "source": [
    "Můžeme si všimnout, že vrstva na rozdíl od `RNNCell` vrátila dvojici výstupů:\n",
    "- `outputs` je tensor tvaru $N \\times T \\times H$, viz dále,\n",
    "- `hidden` je výsledný skrytý stav pro každou sekvenci v dávce po zpracování sekvence jako tensor tvaru $1 \\times N \\times H$, viz dále.\n",
    "\n",
    "Tensor `outputs` obsahuje\n",
    "- pro každou z $N$ paralelně zpracovávaných sekvencí\n",
    "  - pro každý z $T$ vstupů sekvence (např. pro všechny znaky nadpisu)\n",
    "    - vektor skrytého stavu *poslední vrstvy* RNN o rozměru $H$.\n",
    "\n",
    "Jelikož v našem případě je RNN jednovrstvá, obsahuje `outputs` historii skrytých stavů RNN tak, jak se vyvíjely během zpracovávání sekvence. Poslední výstup `outputs[:, -1, :]` je roven poslednímu skrytému stavu.\n",
    "\n",
    "Tensor `hidden` obsahuje stavové vektory po zpracování posledního okamžiku v posloupnosti $t = T$, tj. po dokončení sekvence. První ze tří rozměrů má velikost 1, protože používáme jednosměrnou rekurentní síť. V případě obousměrně rekurence (`bidirectional=True`) bychom dostali `hidden` tvaru $2 \\times N \\times H$, tj. každý z obou směrů zpracování by si držel svůj vlastní skrytý stav."
   ]
  },
  {
   "cell_type": "code",
   "execution_count": 19,
   "metadata": {},
   "outputs": [
    {
     "data": {
      "text/plain": [
       "(torch.Size([10, 64]),\n",
       " tensor([[-0.19, -0.01, -0.20, -0.08,  ...,  0.16, -0.06, -0.14, -0.20],\n",
       "         [-0.11, -0.04, -0.16, -0.07,  ...,  0.18, -0.05, -0.15, -0.14],\n",
       "         [-0.13, -0.09, -0.14, -0.09,  ...,  0.17, -0.05, -0.11, -0.12],\n",
       "         [-0.22, -0.10, -0.16, -0.08,  ...,  0.22, -0.04, -0.15, -0.12],\n",
       "         ...,\n",
       "         [-0.23, -0.11, -0.19,  0.07,  ...,  0.11,  0.02, -0.13, -0.18],\n",
       "         [-0.25, -0.04, -0.14,  0.05,  ...,  0.18,  0.03, -0.07, -0.17],\n",
       "         [-0.17, -0.06, -0.19,  0.04,  ...,  0.14,  0.01, -0.08, -0.23],\n",
       "         [-0.22, -0.09, -0.13, -0.03,  ...,  0.10,  0.00, -0.06, -0.18]],\n",
       "        grad_fn=<SliceBackward0>))"
      ]
     },
     "execution_count": 19,
     "metadata": {},
     "output_type": "execute_result"
    }
   ],
   "source": [
    "# same as hidden in our case\n",
    "outputs[:, -1, :].shape, outputs[:, -1, :]  # (N, H)"
   ]
  },
  {
   "attachments": {},
   "cell_type": "markdown",
   "metadata": {},
   "source": [
    "Rekurentní síť `RNN` můžeme vytvořit i např. dvouvrstvou zadáním `num_layers=2` při vytváření objektu. Výstup první vrstvy je předán jako vstup do druhé vrstvy, která má vlastní parametry a skryté stavy se stejnými rozměry. Výstup `outputs` z dopředného průchodu potom obsahuje historii skrytých stavů pouze z druhé (poslední) vrstvy. Finální skryté stavy `hidden` naopak dostaneme pro všechny (obě) vrstvy, ale pouze pro poslední prvek sekvence a to jako tensor tvaru $1 \\times N \\times 2H$.\n",
    "\n",
    "Zřejmě nejlépe celé API shrnuje následující diagram, kde skryté stavy jsou reprezentovány jako dvojice $h_n, c_n$, protože obrázek popisuje síť typu LSTM.\n",
    "\n",
    "![](https://i.stack.imgur.com/SjnTl.png)\n",
    "\n",
    "Zdroj: https://stackoverflow.com/a/48305882/9418551"
   ]
  },
  {
   "attachments": {},
   "cell_type": "markdown",
   "metadata": {},
   "source": [
    "# Predikce znaků a loss"
   ]
  },
  {
   "attachments": {},
   "cell_type": "markdown",
   "metadata": {},
   "source": [
    "Na vektory skrytých stavů $\\boldsymbol{h}_t$ budeme pohlížet jako na příznaky a predikovat z nich skóre (logity) $\\boldsymbol{z}_t$ pro následující znak $s_{t+1}$. Použijeme jednoduchý lineární klasifikátor formy\n",
    "$$\n",
    "\\boldsymbol{z}_t = \\boldsymbol{h}_t \\cdot \\boldsymbol{w} + \\boldsymbol{b}\n",
    "$$\n",
    "kde\n",
    "- $\\boldsymbol{w}$ je váhová matice o rozměrech $H \\times C$, kde $C$ je počet možných znaků,\n",
    "- $\\boldsymbol{b}$ je vektor biasů o rozměru $C$\n",
    "- $\\boldsymbol{z}_t$ je vektor logitů s rozměrem $C$."
   ]
  },
  {
   "cell_type": "code",
   "execution_count": 20,
   "metadata": {},
   "outputs": [
    {
     "data": {
      "text/plain": [
       "Linear(in_features=64, out_features=38, bias=True)"
      ]
     },
     "execution_count": 20,
     "metadata": {},
     "output_type": "execute_result"
    }
   ],
   "source": [
    "classifier = torch.nn.Linear(hidden_size, len(chars))\n",
    "classifier"
   ]
  },
  {
   "attachments": {},
   "cell_type": "markdown",
   "metadata": {},
   "source": [
    "Do klasifikátoru pošleme sekvenci $\\boldsymbol{z}_{:-1}$, tj. všechny znaky vstupní sekvence kromě posledního, protože predikce, jaký znak by měl následovat za posledním START/STOP tokenem `'.'`, už nás nezajímá."
   ]
  },
  {
   "cell_type": "code",
   "execution_count": 21,
   "metadata": {},
   "outputs": [
    {
     "data": {
      "text/plain": [
       "(torch.Size([160, 38]),\n",
       " tensor([[-0.03, -0.03, -0.05, -0.02,  ...,  0.08, -0.01, -0.04,  0.17],\n",
       "         [-0.02, -0.01, -0.04, -0.08,  ...,  0.07, -0.07, -0.06,  0.11],\n",
       "         [-0.03,  0.05, -0.07, -0.08,  ...,  0.16, -0.05, -0.01,  0.12],\n",
       "         [ 0.03, -0.03, -0.03, -0.01,  ..., -0.01, -0.06, -0.06,  0.09],\n",
       "         ...,\n",
       "         [-0.07,  0.00, -0.07, -0.03,  ...,  0.01,  0.00, -0.03,  0.10],\n",
       "         [ 0.02, -0.02, -0.07, -0.04,  ...,  0.03, -0.05, -0.07,  0.01],\n",
       "         [ 0.02, -0.00,  0.01,  0.00,  ...,  0.10, -0.05, -0.09,  0.09],\n",
       "         [-0.04, -0.08,  0.01,  0.01,  ...,  0.15,  0.04, -0.00,  0.15]],\n",
       "        grad_fn=<AddmmBackward0>))"
      ]
     },
     "execution_count": 21,
     "metadata": {},
     "output_type": "execute_result"
    }
   ],
   "source": [
    "logits = outputs[:, :-1, :]  # (N, T-1, H)\n",
    "logits = logits.reshape(-1, hidden_size)  # (N*(T-1), H)\n",
    "logits = classifier(logits)  # (N*(T-1), C)\n",
    "logits.shape, logits"
   ]
  },
  {
   "attachments": {},
   "cell_type": "markdown",
   "metadata": {},
   "source": [
    "Požadovanými predikcemi neboli \"targety\" je vektor indexů znaků (klasifikačních tříd) vstupní sekvence posunutý o jednu pozici doleva, čímž odpadne první znak. Se zohledněním dávkového zpracování tedy targety budou všechny sloupce matice `ids` kromě prvního, které následně rozvineme do vektoru o délce $N \\cdot (T-1)$"
   ]
  },
  {
   "cell_type": "code",
   "execution_count": 22,
   "metadata": {},
   "outputs": [
    {
     "data": {
      "text/plain": [
       "(torch.Size([160]),\n",
       " tensor([26, 24, 23, 32, 33, 12,  0, -1, -1, -1, -1, -1, -1, -1, -1, -1, 27, 32,\n",
       "         14,  1, 33,  1, 37, 20, 24, 13, 12, 13, 34, 16,  0, -1, 19, 32, 15, 13,\n",
       "         12,  1, 21, 12, 22, 26,  1, 23, 16, 22,  0, -1, 30, 24, 26, 18,  1, 25,\n",
       "         12,  1, 37, 23, 20, 25, 30, 22, 32,  0, 21, 12, 22,  1, 25, 12,  1, 22,\n",
       "         26, 14, 26, 33, 20, 25, 32,  0, 37, 16, 24, 29, 16, 23,  1, 13,  1, 13,\n",
       "          1, 22, 20, 25, 18,  0, 14, 26, 16, 31, 37, 16, 16,  1, 33,  1, 27, 29,\n",
       "         12, 37, 16,  0, 27, 29, 33, 25, 20,  1, 21, 12, 29, 25, 20,  1, 15, 16,\n",
       "         25,  0, 24, 20, 23, 32, 21, 20,  1, 31, 16,  1, 24, 26, 15, 29, 16,  0,\n",
       "         37, 16, 24, 12, 25,  1, 21, 16,  1, 33,  1, 14, 20, 25, 16,  0]))"
      ]
     },
     "execution_count": 22,
     "metadata": {},
     "output_type": "execute_result"
    }
   ],
   "source": [
    "targets = ids[:, 1:]  # (N, T-1)\n",
    "targets = targets.ravel()  # (N*(T-1))\n",
    "targets.shape, targets"
   ]
  },
  {
   "attachments": {},
   "cell_type": "markdown",
   "metadata": {},
   "source": [
    "Z důvodu různých délek sekvencí v dávce jsme matici `ids` nastavili o hodnoty -1. Predikce po skončení sekvence nás již ovšem nezajímají a neměli bychom je při trénování zohledňovat v kritériu. Třída `torch.nn.CrossEntropyLoss` s tímto scénářem počítá a umožňuje nastavit parametr `ignore_index`. Všechny vzorky, jejichž target hodnota je rovna `ignore_index` pak nebudou při vyhodnocení lossu zohledněny."
   ]
  },
  {
   "cell_type": "code",
   "execution_count": 23,
   "metadata": {},
   "outputs": [
    {
     "data": {
      "text/plain": [
       "CrossEntropyLoss()"
      ]
     },
     "execution_count": 23,
     "metadata": {},
     "output_type": "execute_result"
    }
   ],
   "source": [
    "criterion = torch.nn.CrossEntropyLoss(ignore_index=-1)\n",
    "criterion"
   ]
  },
  {
   "cell_type": "code",
   "execution_count": 24,
   "metadata": {},
   "outputs": [
    {
     "data": {
      "text/plain": [
       "3.6450929641723633"
      ]
     },
     "execution_count": 24,
     "metadata": {},
     "output_type": "execute_result"
    }
   ],
   "source": [
    "loss = criterion(logits, targets)\n",
    "loss.item()"
   ]
  },
  {
   "attachments": {},
   "cell_type": "markdown",
   "metadata": {},
   "source": [
    "Predikce pro znaky za koncem sekvence, jejichž targety jsou -1, můžeme ignorovat také manuálním filtrováním relevantních řádků."
   ]
  },
  {
   "cell_type": "code",
   "execution_count": 25,
   "metadata": {},
   "outputs": [
    {
     "data": {
      "text/plain": [
       "tensor([ True,  True,  True,  True,  True,  True,  True, False, False, False,\n",
       "        False, False, False, False, False, False,  True,  True,  True,  True,\n",
       "         True,  True,  True,  True,  True,  True,  True,  True,  True,  True,\n",
       "         True, False,  True,  True,  True,  True,  True,  True,  True,  True,\n",
       "         True,  True,  True,  True,  True,  True,  True, False,  True,  True,\n",
       "         True,  True,  True,  True,  True,  True,  True,  True,  True,  True,\n",
       "         True,  True,  True,  True,  True,  True,  True,  True,  True,  True,\n",
       "         True,  True,  True,  True,  True,  True,  True,  True,  True,  True,\n",
       "         True,  True,  True,  True,  True,  True,  True,  True,  True,  True,\n",
       "         True,  True,  True,  True,  True,  True,  True,  True,  True,  True,\n",
       "         True,  True,  True,  True,  True,  True,  True,  True,  True,  True,\n",
       "         True,  True,  True,  True,  True,  True,  True,  True,  True,  True,\n",
       "         True,  True,  True,  True,  True,  True,  True,  True,  True,  True,\n",
       "         True,  True,  True,  True,  True,  True,  True,  True,  True,  True,\n",
       "         True,  True,  True,  True,  True,  True,  True,  True,  True,  True,\n",
       "         True,  True,  True,  True,  True,  True,  True,  True,  True,  True])"
      ]
     },
     "execution_count": 25,
     "metadata": {},
     "output_type": "execute_result"
    }
   ],
   "source": [
    "mask = targets >= 0  # (N*(T-1),)\n",
    "mask"
   ]
  },
  {
   "attachments": {},
   "cell_type": "markdown",
   "metadata": {},
   "source": [
    "Kritérium pak můžeme vytvořit bez `ignore_index`."
   ]
  },
  {
   "cell_type": "code",
   "execution_count": 26,
   "metadata": {},
   "outputs": [
    {
     "data": {
      "text/plain": [
       "CrossEntropyLoss()"
      ]
     },
     "execution_count": 26,
     "metadata": {},
     "output_type": "execute_result"
    }
   ],
   "source": [
    "criterion = torch.nn.CrossEntropyLoss()\n",
    "criterion"
   ]
  },
  {
   "attachments": {},
   "cell_type": "markdown",
   "metadata": {},
   "source": [
    "Z `logits` i `targets` vybereme pouze relevantní řádky a dostaneme shodnou hodnotu lossu jako s použitím `ignore_index`."
   ]
  },
  {
   "cell_type": "code",
   "execution_count": 27,
   "metadata": {},
   "outputs": [
    {
     "data": {
      "text/plain": [
       "3.645092487335205"
      ]
     },
     "execution_count": 27,
     "metadata": {},
     "output_type": "execute_result"
    }
   ],
   "source": [
    "loss = criterion(logits[mask], targets[mask])\n",
    "loss.item()"
   ]
  },
  {
   "attachments": {},
   "cell_type": "markdown",
   "metadata": {},
   "source": [
    "# Model jako třída `torch.nn.Module`"
   ]
  },
  {
   "attachments": {},
   "cell_type": "markdown",
   "metadata": {},
   "source": [
    "Celý dosavadní postup si pro přehlednost refaktorujeme do jediného modulu. Třídu nazveme `CharRNN` a bude obsahovat\n",
    "- `OneHotEmbedding` embedding vrstvu,\n",
    "- rekurentní modul `RNN`, `GRU` nebo `LSTM`,\n",
    "- a klasifikátor typu `Sequential`.\n",
    "\n",
    "Modul `CharRNN` navíc navrhneme konfigurovatelný tak, aby šlo jednoduše typ rekurentní modulu a jeho počet vrstev a také počet a velikosti vrstev klasifkátoru jako vícevrstvého perceptronu. V dopředném průchodu model bude očekávat\n",
    "- dávku indexů `ids` jako matici o rozměrech $N \\times T$\n",
    "- a nepovinně také výchozí skryté stavy `hidden` pro každou z $N$ sekvencí v dávce jako tensor s rozměry $1 \\times N \\times H$,\n",
    "\n",
    "a vrátí\n",
    "- skóre (logity) přes všechny třídy (znaky) pro každý znak v sekvenci jako matici s rozměry $N \\times T \\times C$\n",
    "- a poslední skryté stavy pro každou sekvenci v dávce jako tensor s rozměry $1 \\times N \\times H$."
   ]
  },
  {
   "cell_type": "code",
   "execution_count": 28,
   "metadata": {},
   "outputs": [],
   "source": [
    "class CharRNN(torch.nn.Module):\n",
    "\n",
    "    def __init__(\n",
    "            self,\n",
    "            num_chars: int,\n",
    "            hidden_size: int = 64,\n",
    "            num_layers: int = 1,\n",
    "            rnn_type: type[torch.nn.Module] = torch.nn.RNN,\n",
    "            mlp_config: tuple[int, ...] = tuple()\n",
    "    ) -> None:\n",
    "        super().__init__()\n",
    "\n",
    "        self.embedding = OneHotEmbedding(num_chars)\n",
    "        self.rnn = rnn_type(num_chars, hidden_size, num_layers=num_layers, batch_first=True)\n",
    "        self.classifier = torch.nn.Sequential()\n",
    "        input_size = hidden_size\n",
    "        for layer_size in mlp_config:\n",
    "            self.classifier.append(torch.nn.Linear(input_size, layer_size))\n",
    "            self.classifier.append(torch.nn.ReLU())\n",
    "            input_size = layer_size\n",
    "        self.classifier.append(torch.nn.Linear(input_size, num_chars))\n",
    "    \n",
    "    def forward(self, ids: torch.Tensor, hidden: Optional[torch.Tensor] = None) -> tuple[torch.Tensor, ...]:\n",
    "        inputs = self.embedding(ids)  # (N, T, D)\n",
    "        outputs, hidden = self.rnn(inputs, hidden)  # (N, T, H), (1, N, H)\n",
    "        logits = self.classifier(outputs)  # (N, T, C)\n",
    "        return logits, hidden"
   ]
  },
  {
   "cell_type": "code",
   "execution_count": 29,
   "metadata": {},
   "outputs": [
    {
     "data": {
      "text/plain": [
       "CharRNN(\n",
       "  (embedding): OneHotEmbedding()\n",
       "  (rnn): RNN(38, 64, batch_first=True)\n",
       "  (classifier): Sequential(\n",
       "    (0): Linear(in_features=64, out_features=38, bias=True)\n",
       "  )\n",
       ")"
      ]
     },
     "execution_count": 29,
     "metadata": {},
     "output_type": "execute_result"
    }
   ],
   "source": [
    "model = CharRNN(len(chars))\n",
    "model"
   ]
  },
  {
   "attachments": {},
   "cell_type": "markdown",
   "metadata": {},
   "source": [
    "Stejně jako výše do modelu pošleme indexy znaků vyjma posledního START/STOP tokenu. Dostaneme zpět predikce `logits` a poslední skryté stavy `hidden`. Hodnoty se budou od výstpů výše lišit, protože moduly uvnitř `CharRNN` byly náhodně inicializovány."
   ]
  },
  {
   "cell_type": "code",
   "execution_count": 30,
   "metadata": {},
   "outputs": [
    {
     "data": {
      "text/plain": [
       "(torch.Size([10, 16, 38]),\n",
       " tensor([[[ 2.14e-02, -1.63e-02, -1.05e-01, -5.54e-02,  ...,  2.02e-01,\n",
       "           -1.78e-01,  1.59e-01,  7.91e-02],\n",
       "          [-8.42e-02, -1.42e-02, -1.52e-01, -3.49e-02,  ...,  1.89e-01,\n",
       "           -2.86e-01,  1.58e-01,  4.21e-02],\n",
       "          [-4.69e-02, -1.66e-01, -1.42e-01, -9.29e-02,  ...,  4.29e-02,\n",
       "           -1.36e-01,  1.07e-01,  1.21e-01],\n",
       "          [ 1.23e-03, -1.23e-01, -2.01e-01, -4.41e-03,  ...,  8.97e-02,\n",
       "           -1.38e-01,  1.77e-01,  7.41e-02],\n",
       "          ...,\n",
       "          [-3.15e-02,  1.38e-02, -1.37e-01, -2.77e-02,  ...,  2.27e-01,\n",
       "           -2.78e-01,  7.02e-02,  1.25e-01],\n",
       "          [-2.05e-02,  1.27e-02, -1.32e-01, -2.55e-02,  ...,  2.31e-01,\n",
       "           -2.77e-01,  6.62e-02,  1.18e-01],\n",
       "          [-2.59e-02,  1.15e-02, -1.37e-01, -2.68e-02,  ...,  2.28e-01,\n",
       "           -2.75e-01,  6.90e-02,  1.23e-01],\n",
       "          [-2.30e-02,  1.21e-02, -1.36e-01, -2.58e-02,  ...,  2.28e-01,\n",
       "           -2.75e-01,  6.73e-02,  1.18e-01]],\n",
       " \n",
       "         [[ 2.14e-02, -1.63e-02, -1.05e-01, -5.54e-02,  ...,  2.02e-01,\n",
       "           -1.78e-01,  1.59e-01,  7.91e-02],\n",
       "          [-7.66e-02, -8.76e-02, -9.60e-02, -5.97e-02,  ...,  1.97e-01,\n",
       "           -2.09e-01,  2.01e-01,  2.43e-02],\n",
       "          [ 2.96e-02, -5.31e-02, -1.16e-01, -3.08e-02,  ...,  1.38e-01,\n",
       "           -1.20e-01,  1.51e-01,  2.28e-02],\n",
       "          [-8.10e-02, -4.06e-02, -1.77e-01, -3.51e-02,  ...,  1.36e-01,\n",
       "           -1.70e-01,  1.23e-01, -6.19e-02],\n",
       "          ...,\n",
       "          [-2.09e-03,  3.32e-03, -1.56e-01, -7.10e-02,  ...,  1.81e-01,\n",
       "           -2.04e-01,  1.28e-01, -3.65e-02],\n",
       "          [-1.14e-01, -1.23e-01, -1.31e-01, -5.84e-02,  ...,  1.84e-01,\n",
       "           -2.44e-01,  1.39e-01,  7.60e-02],\n",
       "          [-1.03e-01, -3.27e-02, -1.01e-01, -3.31e-02,  ...,  1.25e-01,\n",
       "           -1.59e-01,  1.66e-01,  1.06e-02],\n",
       "          [-2.48e-02, -3.86e-02, -5.70e-02, -1.25e-01,  ...,  1.28e-01,\n",
       "           -1.52e-01,  2.29e-01,  6.93e-02]],\n",
       " \n",
       "         [[ 2.14e-02, -1.63e-02, -1.05e-01, -5.54e-02,  ...,  2.02e-01,\n",
       "           -1.78e-01,  1.59e-01,  7.91e-02],\n",
       "          [-4.66e-02, -1.09e-02, -1.26e-01, -5.75e-02,  ...,  2.10e-01,\n",
       "           -2.08e-01,  1.47e-01,  8.43e-02],\n",
       "          [-8.69e-03, -1.30e-01, -9.07e-02, -5.15e-02,  ...,  1.18e-01,\n",
       "           -1.06e-01,  1.17e-01,  8.98e-02],\n",
       "          [ 2.06e-02, -1.03e-01, -2.26e-01, -3.09e-02,  ...,  1.41e-01,\n",
       "           -9.62e-02,  7.18e-02,  4.57e-02],\n",
       "          ...,\n",
       "          [-7.55e-03, -1.13e-01, -1.66e-01, -2.80e-02,  ...,  1.49e-01,\n",
       "           -1.20e-01,  1.91e-01,  9.36e-02],\n",
       "          [-1.01e-01, -5.45e-02, -6.93e-02, -3.09e-02,  ...,  1.20e-01,\n",
       "           -1.04e-01,  1.66e-01,  5.37e-02],\n",
       "          [-8.33e-02, -6.44e-02, -7.30e-02, -1.51e-02,  ...,  1.58e-01,\n",
       "           -2.17e-01,  6.70e-02, -1.62e-02],\n",
       "          [ 2.30e-02, -6.41e-02, -1.17e-01, -9.29e-02,  ...,  1.50e-01,\n",
       "           -1.65e-01,  1.76e-01,  1.04e-01]],\n",
       " \n",
       "         [[ 2.14e-02, -1.63e-02, -1.05e-01, -5.54e-02,  ...,  2.02e-01,\n",
       "           -1.78e-01,  1.59e-01,  7.91e-02],\n",
       "          [-1.40e-01, -1.12e-01, -1.01e-01, -5.47e-02,  ...,  7.35e-02,\n",
       "           -1.78e-01,  1.43e-01,  6.88e-02],\n",
       "          [-6.18e-02, -1.89e-01, -1.57e-01, -3.73e-02,  ...,  8.98e-02,\n",
       "           -1.88e-01,  6.34e-02,  8.73e-02],\n",
       "          [-4.67e-02, -3.74e-02, -2.17e-01, -2.17e-03,  ...,  1.59e-01,\n",
       "           -2.57e-01,  1.51e-01,  9.15e-02],\n",
       "          ...,\n",
       "          [-7.41e-02,  9.31e-03, -2.32e-01, -7.10e-02,  ...,  1.39e-01,\n",
       "           -1.63e-01,  1.07e-01,  8.97e-02],\n",
       "          [-1.00e-01, -1.12e-01, -1.64e-01, -2.59e-02,  ...,  5.24e-02,\n",
       "           -1.34e-01,  7.34e-02,  1.01e-01],\n",
       "          [-3.57e-02, -7.68e-02, -1.01e-01,  1.18e-02,  ...,  2.01e-01,\n",
       "           -2.65e-01,  3.30e-02, -2.92e-02],\n",
       "          [ 9.61e-04, -8.85e-02, -1.51e-01, -1.90e-03,  ...,  8.87e-02,\n",
       "           -1.36e-01,  1.17e-01,  1.74e-01]],\n",
       " \n",
       "         ...,\n",
       " \n",
       "         [[ 2.14e-02, -1.63e-02, -1.05e-01, -5.54e-02,  ...,  2.02e-01,\n",
       "           -1.78e-01,  1.59e-01,  7.91e-02],\n",
       "          [-1.00e-01, -7.48e-02, -1.13e-01, -6.21e-02,  ...,  1.52e-01,\n",
       "           -2.57e-01,  2.11e-01, -2.80e-02],\n",
       "          [-9.34e-02, -2.89e-02, -1.49e-01, -2.31e-02,  ...,  1.69e-01,\n",
       "           -1.92e-01,  1.66e-01,  7.77e-02],\n",
       "          [-1.03e-01, -2.66e-02, -1.01e-01, -4.42e-02,  ...,  1.21e-01,\n",
       "           -1.47e-01,  1.19e-01,  4.41e-02],\n",
       "          ...,\n",
       "          [-9.87e-02, -1.37e-02, -1.29e-01, -9.81e-03,  ...,  2.07e-01,\n",
       "           -2.51e-01,  2.39e-01, -1.07e-02],\n",
       "          [-2.89e-02, -7.17e-02, -7.92e-02,  5.45e-02,  ...,  1.30e-01,\n",
       "           -1.14e-01,  4.20e-02, -1.78e-02],\n",
       "          [-2.36e-02, -4.70e-02, -1.78e-01, -3.57e-02,  ...,  2.53e-01,\n",
       "           -2.33e-01,  4.84e-02,  9.10e-02],\n",
       "          [-8.00e-02, -1.37e-03, -1.35e-01,  4.76e-04,  ...,  1.64e-01,\n",
       "           -1.84e-01,  1.23e-01,  7.85e-02]],\n",
       " \n",
       "         [[ 2.14e-02, -1.63e-02, -1.05e-01, -5.54e-02,  ...,  2.02e-01,\n",
       "           -1.78e-01,  1.59e-01,  7.91e-02],\n",
       "          [-7.66e-02, -8.76e-02, -9.60e-02, -5.97e-02,  ...,  1.97e-01,\n",
       "           -2.09e-01,  2.01e-01,  2.43e-02],\n",
       "          [-8.03e-02, -4.71e-02, -1.07e-01, -3.44e-02,  ...,  2.17e-01,\n",
       "           -2.66e-01,  2.51e-01,  1.93e-02],\n",
       "          [-8.13e-02, -4.32e-02, -7.61e-02,  1.66e-04,  ...,  1.24e-01,\n",
       "           -1.30e-01,  2.71e-02,  3.80e-02],\n",
       "          ...,\n",
       "          [ 2.41e-02, -4.16e-02, -2.20e-01,  1.57e-02,  ...,  2.39e-01,\n",
       "           -2.32e-01,  8.02e-02, -2.30e-02],\n",
       "          [ 2.81e-02, -1.11e-01, -2.14e-01, -3.65e-02,  ...,  2.48e-01,\n",
       "           -1.60e-01,  1.18e-01,  1.62e-01],\n",
       "          [-8.31e-02, -1.26e-02, -9.92e-02, -1.74e-02,  ...,  6.31e-02,\n",
       "           -8.91e-02,  1.04e-01,  3.13e-02],\n",
       "          [-9.20e-02, -3.33e-02, -2.38e-01, -1.12e-01,  ...,  1.49e-01,\n",
       "           -1.60e-01,  1.06e-01,  1.19e-01]],\n",
       " \n",
       "         [[ 2.14e-02, -1.63e-02, -1.05e-01, -5.54e-02,  ...,  2.02e-01,\n",
       "           -1.78e-01,  1.59e-01,  7.91e-02],\n",
       "          [-7.73e-02, -1.43e-01, -1.42e-01, -8.23e-02,  ...,  6.15e-02,\n",
       "           -1.92e-01,  1.44e-01,  6.53e-02],\n",
       "          [-4.56e-02, -6.63e-02, -2.08e-01, -6.44e-02,  ...,  9.35e-02,\n",
       "           -2.53e-01,  1.23e-01,  6.48e-02],\n",
       "          [-5.64e-04, -5.14e-02, -1.92e-01,  2.36e-02,  ...,  1.15e-01,\n",
       "           -1.67e-01,  2.05e-01,  4.36e-02],\n",
       "          ...,\n",
       "          [-4.69e-02, -8.45e-03, -2.33e-01,  1.95e-02,  ...,  1.53e-01,\n",
       "           -2.12e-01,  1.04e-01,  4.15e-02],\n",
       "          [ 5.14e-02, -9.44e-02, -1.93e-01, -1.86e-02,  ...,  2.24e-01,\n",
       "           -1.76e-01,  9.15e-02,  1.25e-01],\n",
       "          [-1.03e-01, -6.72e-02, -1.46e-01, -2.90e-02,  ...,  1.54e-01,\n",
       "           -2.33e-01,  1.73e-01,  9.45e-02],\n",
       "          [-9.61e-02, -7.53e-03, -1.19e-01, -1.08e-02,  ...,  1.10e-01,\n",
       "           -1.26e-01,  1.15e-01, -1.47e-02]],\n",
       " \n",
       "         [[ 2.14e-02, -1.63e-02, -1.05e-01, -5.54e-02,  ...,  2.02e-01,\n",
       "           -1.78e-01,  1.59e-01,  7.91e-02],\n",
       "          [-3.96e-02, -6.89e-02, -7.46e-02, -7.91e-02,  ...,  1.96e-01,\n",
       "           -2.99e-01,  1.24e-01,  7.54e-02],\n",
       "          [-9.60e-02, -2.13e-02, -1.25e-01, -2.36e-02,  ...,  1.36e-01,\n",
       "           -1.47e-01,  1.34e-01,  8.32e-02],\n",
       "          [-8.58e-02, -1.03e-01, -1.78e-01, -8.05e-02,  ...,  5.18e-02,\n",
       "           -1.62e-01,  1.29e-01,  3.78e-02],\n",
       "          ...,\n",
       "          [-6.74e-02, -8.30e-02, -1.47e-01, -4.97e-02,  ...,  2.05e-01,\n",
       "           -2.02e-01,  1.93e-01,  2.23e-02],\n",
       "          [-1.36e-01, -1.15e-02, -1.82e-01, -5.29e-02,  ...,  7.96e-02,\n",
       "           -1.95e-01,  1.76e-01,  3.61e-02],\n",
       "          [-7.50e-02,  1.26e-02, -2.19e-01, -5.54e-02,  ...,  1.72e-01,\n",
       "           -1.80e-01,  5.55e-02,  7.31e-02],\n",
       "          [-8.97e-02, -6.07e-02, -1.37e-01, -3.51e-02,  ...,  1.09e-01,\n",
       "           -1.34e-01,  1.22e-01,  8.16e-02]]], grad_fn=<AddBackward0>))"
      ]
     },
     "execution_count": 30,
     "metadata": {},
     "output_type": "execute_result"
    }
   ],
   "source": [
    "logits, hidden = model(ids[:, :-1])  # (N*(T-1), C), (1, N, H)\n",
    "logits.shape, logits"
   ]
  },
  {
   "attachments": {},
   "cell_type": "markdown",
   "metadata": {},
   "source": [
    "Opět manuálně vymaskujeme predikce pro nastavené hodnoty za konci sevkencí:"
   ]
  },
  {
   "cell_type": "code",
   "execution_count": 31,
   "metadata": {},
   "outputs": [
    {
     "data": {
      "text/plain": [
       "(torch.Size([160]),\n",
       " tensor([ True,  True,  True,  True,  True,  True,  True, False, False, False,\n",
       "         False, False, False, False, False, False,  True,  True,  True,  True,\n",
       "          True,  True,  True,  True,  True,  True,  True,  True,  True,  True,\n",
       "          True, False,  True,  True,  True,  True,  True,  True,  True,  True,\n",
       "          True,  True,  True,  True,  True,  True,  True, False,  True,  True,\n",
       "          True,  True,  True,  True,  True,  True,  True,  True,  True,  True,\n",
       "          True,  True,  True,  True,  True,  True,  True,  True,  True,  True,\n",
       "          True,  True,  True,  True,  True,  True,  True,  True,  True,  True,\n",
       "          True,  True,  True,  True,  True,  True,  True,  True,  True,  True,\n",
       "          True,  True,  True,  True,  True,  True,  True,  True,  True,  True,\n",
       "          True,  True,  True,  True,  True,  True,  True,  True,  True,  True,\n",
       "          True,  True,  True,  True,  True,  True,  True,  True,  True,  True,\n",
       "          True,  True,  True,  True,  True,  True,  True,  True,  True,  True,\n",
       "          True,  True,  True,  True,  True,  True,  True,  True,  True,  True,\n",
       "          True,  True,  True,  True,  True,  True,  True,  True,  True,  True,\n",
       "          True,  True,  True,  True,  True,  True,  True,  True,  True,  True]))"
      ]
     },
     "execution_count": 31,
     "metadata": {},
     "output_type": "execute_result"
    }
   ],
   "source": [
    "mask = targets >= 0  # (N*(T-1),)\n",
    "mask.shape, mask"
   ]
  },
  {
   "attachments": {},
   "cell_type": "markdown",
   "metadata": {},
   "source": [
    "Pro jednoduché maskování řádků potřebujeme nejprve `logits` přetvarovat do matice tvaru $(N \\cdot (T-1)) \\times C$. Poté vyhodnotíme maskovaný loss, tj. bez nastavených hodnot."
   ]
  },
  {
   "cell_type": "code",
   "execution_count": 32,
   "metadata": {},
   "outputs": [
    {
     "data": {
      "text/plain": [
       "3.6509182453155518"
      ]
     },
     "execution_count": 32,
     "metadata": {},
     "output_type": "execute_result"
    }
   ],
   "source": [
    "loss = criterion(logits.reshape(-1, logits.shape[-1])[mask], targets[mask])\n",
    "loss.item()"
   ]
  },
  {
   "attachments": {},
   "cell_type": "markdown",
   "metadata": {},
   "source": [
    "# Zpětný průchod"
   ]
  },
  {
   "attachments": {},
   "cell_type": "markdown",
   "metadata": {},
   "source": [
    "Trénovat budeme pomocí minidávkových gradientních metod a to víceméně shodným způsobem jako klasifikátor pro obráky z datasetu CIFAR-10. Pro ukázku zvolíme např. nejjednodušší stochastic gradient descent `torch.optim.SGD`."
   ]
  },
  {
   "cell_type": "code",
   "execution_count": 33,
   "metadata": {},
   "outputs": [
    {
     "data": {
      "text/plain": [
       "SGD (\n",
       "Parameter Group 0\n",
       "    dampening: 0\n",
       "    differentiable: False\n",
       "    foreach: None\n",
       "    lr: 0.01\n",
       "    maximize: False\n",
       "    momentum: 0\n",
       "    nesterov: False\n",
       "    weight_decay: 0\n",
       ")"
      ]
     },
     "execution_count": 33,
     "metadata": {},
     "output_type": "execute_result"
    }
   ],
   "source": [
    "optimizer = torch.optim.SGD(model.parameters(), lr=0.01)\n",
    "optimizer"
   ]
  },
  {
   "attachments": {},
   "cell_type": "markdown",
   "metadata": {},
   "source": [
    " Pro jednu dávku představují zpětný průchod a jeden krok metody největšího spádu tři následující kroky:"
   ]
  },
  {
   "cell_type": "code",
   "execution_count": 34,
   "metadata": {},
   "outputs": [],
   "source": [
    "optimizer.zero_grad()\n",
    "loss.backward()\n",
    "optimizer.step()"
   ]
  },
  {
   "attachments": {},
   "cell_type": "markdown",
   "metadata": {},
   "source": [
    "Můžeme si ověřit, zda např. jedna váhových matic rekurentního modulu obrdžel ze zpětné propagace gradient."
   ]
  },
  {
   "cell_type": "code",
   "execution_count": 35,
   "metadata": {},
   "outputs": [
    {
     "data": {
      "text/plain": [
       "tensor([[ 2.04e-03,  6.79e-04, -1.03e-03,  1.04e-03,  ...,  1.78e-04,\n",
       "          6.04e-04, -5.11e-04,  3.24e-03],\n",
       "        [-1.10e-03, -3.44e-04,  1.85e-04, -1.85e-04,  ...,  8.19e-04,\n",
       "         -1.50e-04, -3.69e-04, -1.46e-03],\n",
       "        [ 1.85e-03,  3.97e-04,  2.48e-04,  6.09e-04,  ...,  6.44e-04,\n",
       "          1.21e-03, -7.77e-04,  4.29e-03],\n",
       "        [ 5.45e-04,  3.61e-04, -4.64e-04,  1.79e-04,  ...,  4.64e-04,\n",
       "         -1.20e-03, -9.08e-05,  3.89e-04],\n",
       "        ...,\n",
       "        [ 4.34e-03, -1.14e-04,  7.66e-05,  1.02e-03,  ..., -1.09e-03,\n",
       "          1.48e-03, -1.34e-03,  5.69e-03],\n",
       "        [-1.65e-03,  5.15e-04, -5.83e-05, -4.77e-04,  ...,  4.44e-04,\n",
       "         -3.38e-04,  6.19e-04, -2.04e-03],\n",
       "        [-1.68e-03,  4.44e-04, -3.98e-04, -7.69e-04,  ...,  7.45e-04,\n",
       "         -6.25e-04,  1.09e-03, -3.28e-03],\n",
       "        [-4.36e-03, -6.30e-04,  4.68e-04, -1.44e-03,  ..., -1.52e-04,\n",
       "         -1.42e-03,  7.43e-04, -4.49e-03]])"
      ]
     },
     "execution_count": 35,
     "metadata": {},
     "output_type": "execute_result"
    }
   ],
   "source": [
    "model.rnn.weight_hh_l0.grad"
   ]
  },
  {
   "attachments": {},
   "cell_type": "markdown",
   "metadata": {},
   "source": [
    "# Generování textu"
   ]
  },
  {
   "attachments": {},
   "cell_type": "markdown",
   "metadata": {},
   "source": [
    "Pokud máme natrénovaný model, můžeme zkusit z něj vygenerovat text. Model v dopředném průchodu očekává indexy `ids` a vrátí predikce následujících znaků. Jelikož by každá sekvence sekvence měla začínat oddělovacím START/STOP tokenem, vytvoříme si dávku indexů znaku `delimiter` jako matici o tvaru $N \\times 1$, tedy vlastně sloupcový vektor."
   ]
  },
  {
   "cell_type": "code",
   "execution_count": 36,
   "metadata": {},
   "outputs": [
    {
     "data": {
      "text/plain": [
       "tensor([[0],\n",
       "        [0],\n",
       "        [0],\n",
       "        [0],\n",
       "        [0],\n",
       "        [0],\n",
       "        [0],\n",
       "        [0],\n",
       "        [0],\n",
       "        [0]])"
      ]
     },
     "execution_count": 36,
     "metadata": {},
     "output_type": "execute_result"
    }
   ],
   "source": [
    "gen_ids = torch.empty((batch_size, 1), dtype=torch.int64).fill_(chr2idx[delimiter])  # (N, 1)\n",
    "gen_ids"
   ]
  },
  {
   "attachments": {},
   "cell_type": "markdown",
   "metadata": {},
   "source": [
    "Dávku indexů `gen_ids` pošleme do modelu a dostaneme zpět skóre (logity), které znaky by měly podle sítě následovat. Protože pro všechny sekvence v dávce byly inicializace i vstup shodné, dostaneme shodné i vektory logitů."
   ]
  },
  {
   "cell_type": "code",
   "execution_count": 37,
   "metadata": {},
   "outputs": [
    {
     "data": {
      "text/plain": [
       "(torch.Size([10, 1, 38]),\n",
       " tensor([[[ 0.02, -0.01, -0.11, -0.06, -0.09,  0.17,  0.08,  0.05,  0.01, -0.16,\n",
       "           -0.13, -0.17,  0.08,  0.16,  0.00,  0.16, -0.18, -0.08,  0.03,  0.13,\n",
       "            0.03, -0.28,  0.05, -0.02,  0.00,  0.05, -0.01, -0.15,  0.01,  0.10,\n",
       "           -0.08, -0.08, -0.08, -0.01,  0.20, -0.18,  0.16,  0.08]],\n",
       " \n",
       "         [[ 0.02, -0.01, -0.11, -0.06, -0.09,  0.17,  0.08,  0.05,  0.01, -0.16,\n",
       "           -0.13, -0.17,  0.08,  0.16,  0.00,  0.16, -0.18, -0.08,  0.03,  0.13,\n",
       "            0.03, -0.28,  0.05, -0.02,  0.00,  0.05, -0.01, -0.15,  0.01,  0.10,\n",
       "           -0.08, -0.08, -0.08, -0.01,  0.20, -0.18,  0.16,  0.08]],\n",
       " \n",
       "         [[ 0.02, -0.01, -0.11, -0.06, -0.09,  0.17,  0.08,  0.05,  0.01, -0.16,\n",
       "           -0.13, -0.17,  0.08,  0.16,  0.00,  0.16, -0.18, -0.08,  0.03,  0.13,\n",
       "            0.03, -0.28,  0.05, -0.02,  0.00,  0.05, -0.01, -0.15,  0.01,  0.10,\n",
       "           -0.08, -0.08, -0.08, -0.01,  0.20, -0.18,  0.16,  0.08]],\n",
       " \n",
       "         [[ 0.02, -0.01, -0.11, -0.06, -0.09,  0.17,  0.08,  0.05,  0.01, -0.16,\n",
       "           -0.13, -0.17,  0.08,  0.16,  0.00,  0.16, -0.18, -0.08,  0.03,  0.13,\n",
       "            0.03, -0.28,  0.05, -0.02,  0.00,  0.05, -0.01, -0.15,  0.01,  0.10,\n",
       "           -0.08, -0.08, -0.08, -0.01,  0.20, -0.18,  0.16,  0.08]],\n",
       " \n",
       "         [[ 0.02, -0.01, -0.11, -0.06, -0.09,  0.17,  0.08,  0.05,  0.01, -0.16,\n",
       "           -0.13, -0.17,  0.08,  0.16,  0.00,  0.16, -0.18, -0.08,  0.03,  0.13,\n",
       "            0.03, -0.28,  0.05, -0.02,  0.00,  0.05, -0.01, -0.15,  0.01,  0.10,\n",
       "           -0.08, -0.08, -0.08, -0.01,  0.20, -0.18,  0.16,  0.08]],\n",
       " \n",
       "         [[ 0.02, -0.01, -0.11, -0.06, -0.09,  0.17,  0.08,  0.05,  0.01, -0.16,\n",
       "           -0.13, -0.17,  0.08,  0.16,  0.00,  0.16, -0.18, -0.08,  0.03,  0.13,\n",
       "            0.03, -0.28,  0.05, -0.02,  0.00,  0.05, -0.01, -0.15,  0.01,  0.10,\n",
       "           -0.08, -0.08, -0.08, -0.01,  0.20, -0.18,  0.16,  0.08]],\n",
       " \n",
       "         [[ 0.02, -0.01, -0.11, -0.06, -0.09,  0.17,  0.08,  0.05,  0.01, -0.16,\n",
       "           -0.13, -0.17,  0.08,  0.16,  0.00,  0.16, -0.18, -0.08,  0.03,  0.13,\n",
       "            0.03, -0.28,  0.05, -0.02,  0.00,  0.05, -0.01, -0.15,  0.01,  0.10,\n",
       "           -0.08, -0.08, -0.08, -0.01,  0.20, -0.18,  0.16,  0.08]],\n",
       " \n",
       "         [[ 0.02, -0.01, -0.11, -0.06, -0.09,  0.17,  0.08,  0.05,  0.01, -0.16,\n",
       "           -0.13, -0.17,  0.08,  0.16,  0.00,  0.16, -0.18, -0.08,  0.03,  0.13,\n",
       "            0.03, -0.28,  0.05, -0.02,  0.00,  0.05, -0.01, -0.15,  0.01,  0.10,\n",
       "           -0.08, -0.08, -0.08, -0.01,  0.20, -0.18,  0.16,  0.08]],\n",
       " \n",
       "         [[ 0.02, -0.01, -0.11, -0.06, -0.09,  0.17,  0.08,  0.05,  0.01, -0.16,\n",
       "           -0.13, -0.17,  0.08,  0.16,  0.00,  0.16, -0.18, -0.08,  0.03,  0.13,\n",
       "            0.03, -0.28,  0.05, -0.02,  0.00,  0.05, -0.01, -0.15,  0.01,  0.10,\n",
       "           -0.08, -0.08, -0.08, -0.01,  0.20, -0.18,  0.16,  0.08]],\n",
       " \n",
       "         [[ 0.02, -0.01, -0.11, -0.06, -0.09,  0.17,  0.08,  0.05,  0.01, -0.16,\n",
       "           -0.13, -0.17,  0.08,  0.16,  0.00,  0.16, -0.18, -0.08,  0.03,  0.13,\n",
       "            0.03, -0.28,  0.05, -0.02,  0.00,  0.05, -0.01, -0.15,  0.01,  0.10,\n",
       "           -0.08, -0.08, -0.08, -0.01,  0.20, -0.18,  0.16,  0.08]]],\n",
       "        grad_fn=<ViewBackward0>))"
      ]
     },
     "execution_count": 37,
     "metadata": {},
     "output_type": "execute_result"
    }
   ],
   "source": [
    "gen_logits, gen_hidden = model(gen_ids)  # (N, 1, C), (1, N, H)\n",
    "gen_logits.shape, gen_logits"
   ]
  },
  {
   "attachments": {},
   "cell_type": "markdown",
   "metadata": {},
   "source": [
    "Znak, který by podle sítě měl za START/STOP tokenem následovat je ten, jehož skóre vyšlo nejvyšší. Mohli bychom tedy použít např. metodu `argmax` a to přes poslední dimenzi logitů:"
   ]
  },
  {
   "cell_type": "code",
   "execution_count": 38,
   "metadata": {},
   "outputs": [
    {
     "data": {
      "text/plain": [
       "tensor([[34],\n",
       "        [34],\n",
       "        [34],\n",
       "        [34],\n",
       "        [34],\n",
       "        [34],\n",
       "        [34],\n",
       "        [34],\n",
       "        [34],\n",
       "        [34]])"
      ]
     },
     "execution_count": 38,
     "metadata": {},
     "output_type": "execute_result"
    }
   ],
   "source": [
    "gen_preds = gen_logits.argmax(dim=-1)  # (N*1,)\n",
    "gen_preds"
   ]
  },
  {
   "attachments": {},
   "cell_type": "markdown",
   "metadata": {},
   "source": [
    "Zde ovšem problémem je, že se model chová deterministicky a při stejných vstupech bude generovat vždy stené výstupy. Pokud tedy budeme generování inicializovat pouze START/STOP tokenem, ve všech sekvencích dostaneme shodné predikce následujících znaků a tedy i shodný výsledný text. Tomuto chování se můžeme vyhnout dvěma způsoby:\n",
    "1. Mohli bychom manuálně inicializovat každou sekvenci více znaky než pouze START/STOP tokenem. Jako inicializaci bychom tedy použili matici $N \\times 2$, ve které by první sloupec obsahoval indexy oddělovacího tokenu a druhý sloupec náhodné indexy vybrané např. pomocí `torch.randint`. Pokud bychom chtěli zohlednit statistiku jazyka, museli bychom vybírat např. dle pravděpodobnosti výskytu znaku či jinak. Další generování by ovšem stále bylo deterministické, a tak např. inicializace sekvencí `'.a'` by stejně vždy vedla na sekvenci `'.ahoj.'`.\n",
    "2. Pokaždé trochu jiný výsledek zajistíme nedeterministickým výběrem následujícího znaku z predikovaných skóre. Následující znak vybereme náhodně, zohledníme přitom ale predikovaná skóre. Částečně náhodný \"cinknutý\" výběr dle pravděpodobností umí např. funkce `torch.multinomial`, která jako vstup požaduje pravděpodobnostní rozdělení přes jednotlivé třídy a po zavolání vrátí index náhodně vybrané třídy při zohlednění pravděpodobností. Jako parametr je ještě nutné zadat počet indexů, které má funkce vygenerovat, a tvar tensoru jejich uspořádání.\n",
    "\n",
    "Použijeme druhý způsob, protože je jednodušší, elegantnější a nevyžaduje po uživateli vlastnoruční počítání statistik jazyka.\n",
    "\n",
    "Funkce `torch.multinomial` se používá následovně. Např. 20 hodů neférovou kostkou, u které šestka padá s pravděpodobností 50 %, bychom mohli simulovat takto:"
   ]
  },
  {
   "cell_type": "code",
   "execution_count": 39,
   "metadata": {},
   "outputs": [
    {
     "data": {
      "text/plain": [
       "tensor([6, 6, 4, 6, 6, 6, 6, 3, 6, 5, 6, 6, 6, 6, 6, 6, 3, 6, 6, 6])"
      ]
     },
     "execution_count": 39,
     "metadata": {},
     "output_type": "execute_result"
    }
   ],
   "source": [
    "1 + torch.multinomial(torch.tensor([0.1, 0.1, 0.1, 0.1, 0.1, 0.5]), 20, replacement=True)"
   ]
  },
  {
   "attachments": {},
   "cell_type": "markdown",
   "metadata": {},
   "source": [
    "My funkci `torch.multinomial` použijeme pro výběr následujícího znaku. Z modelem predikovaných skóre *z posledního kroku* nejprve vyrobíme pravděpodobnostní rozdělení pomocí softmaxu."
   ]
  },
  {
   "cell_type": "code",
   "execution_count": 40,
   "metadata": {},
   "outputs": [
    {
     "data": {
      "text/plain": [
       "(torch.Size([10, 38]),\n",
       " tensor([[0.03, 0.03, 0.02, 0.02, 0.02, 0.03, 0.03, 0.03, 0.03, 0.02, 0.02, 0.02,\n",
       "          0.03, 0.03, 0.03, 0.03, 0.02, 0.02, 0.03, 0.03, 0.03, 0.02, 0.03, 0.03,\n",
       "          0.03, 0.03, 0.03, 0.02, 0.03, 0.03, 0.02, 0.02, 0.02, 0.03, 0.03, 0.02,\n",
       "          0.03, 0.03],\n",
       "         [0.03, 0.03, 0.02, 0.02, 0.02, 0.03, 0.03, 0.03, 0.03, 0.02, 0.02, 0.02,\n",
       "          0.03, 0.03, 0.03, 0.03, 0.02, 0.02, 0.03, 0.03, 0.03, 0.02, 0.03, 0.03,\n",
       "          0.03, 0.03, 0.03, 0.02, 0.03, 0.03, 0.02, 0.02, 0.02, 0.03, 0.03, 0.02,\n",
       "          0.03, 0.03],\n",
       "         [0.03, 0.03, 0.02, 0.02, 0.02, 0.03, 0.03, 0.03, 0.03, 0.02, 0.02, 0.02,\n",
       "          0.03, 0.03, 0.03, 0.03, 0.02, 0.02, 0.03, 0.03, 0.03, 0.02, 0.03, 0.03,\n",
       "          0.03, 0.03, 0.03, 0.02, 0.03, 0.03, 0.02, 0.02, 0.02, 0.03, 0.03, 0.02,\n",
       "          0.03, 0.03],\n",
       "         [0.03, 0.03, 0.02, 0.02, 0.02, 0.03, 0.03, 0.03, 0.03, 0.02, 0.02, 0.02,\n",
       "          0.03, 0.03, 0.03, 0.03, 0.02, 0.02, 0.03, 0.03, 0.03, 0.02, 0.03, 0.03,\n",
       "          0.03, 0.03, 0.03, 0.02, 0.03, 0.03, 0.02, 0.02, 0.02, 0.03, 0.03, 0.02,\n",
       "          0.03, 0.03],\n",
       "         [0.03, 0.03, 0.02, 0.02, 0.02, 0.03, 0.03, 0.03, 0.03, 0.02, 0.02, 0.02,\n",
       "          0.03, 0.03, 0.03, 0.03, 0.02, 0.02, 0.03, 0.03, 0.03, 0.02, 0.03, 0.03,\n",
       "          0.03, 0.03, 0.03, 0.02, 0.03, 0.03, 0.02, 0.02, 0.02, 0.03, 0.03, 0.02,\n",
       "          0.03, 0.03],\n",
       "         [0.03, 0.03, 0.02, 0.02, 0.02, 0.03, 0.03, 0.03, 0.03, 0.02, 0.02, 0.02,\n",
       "          0.03, 0.03, 0.03, 0.03, 0.02, 0.02, 0.03, 0.03, 0.03, 0.02, 0.03, 0.03,\n",
       "          0.03, 0.03, 0.03, 0.02, 0.03, 0.03, 0.02, 0.02, 0.02, 0.03, 0.03, 0.02,\n",
       "          0.03, 0.03],\n",
       "         [0.03, 0.03, 0.02, 0.02, 0.02, 0.03, 0.03, 0.03, 0.03, 0.02, 0.02, 0.02,\n",
       "          0.03, 0.03, 0.03, 0.03, 0.02, 0.02, 0.03, 0.03, 0.03, 0.02, 0.03, 0.03,\n",
       "          0.03, 0.03, 0.03, 0.02, 0.03, 0.03, 0.02, 0.02, 0.02, 0.03, 0.03, 0.02,\n",
       "          0.03, 0.03],\n",
       "         [0.03, 0.03, 0.02, 0.02, 0.02, 0.03, 0.03, 0.03, 0.03, 0.02, 0.02, 0.02,\n",
       "          0.03, 0.03, 0.03, 0.03, 0.02, 0.02, 0.03, 0.03, 0.03, 0.02, 0.03, 0.03,\n",
       "          0.03, 0.03, 0.03, 0.02, 0.03, 0.03, 0.02, 0.02, 0.02, 0.03, 0.03, 0.02,\n",
       "          0.03, 0.03],\n",
       "         [0.03, 0.03, 0.02, 0.02, 0.02, 0.03, 0.03, 0.03, 0.03, 0.02, 0.02, 0.02,\n",
       "          0.03, 0.03, 0.03, 0.03, 0.02, 0.02, 0.03, 0.03, 0.03, 0.02, 0.03, 0.03,\n",
       "          0.03, 0.03, 0.03, 0.02, 0.03, 0.03, 0.02, 0.02, 0.02, 0.03, 0.03, 0.02,\n",
       "          0.03, 0.03],\n",
       "         [0.03, 0.03, 0.02, 0.02, 0.02, 0.03, 0.03, 0.03, 0.03, 0.02, 0.02, 0.02,\n",
       "          0.03, 0.03, 0.03, 0.03, 0.02, 0.02, 0.03, 0.03, 0.03, 0.02, 0.03, 0.03,\n",
       "          0.03, 0.03, 0.03, 0.02, 0.03, 0.03, 0.02, 0.02, 0.02, 0.03, 0.03, 0.02,\n",
       "          0.03, 0.03]], grad_fn=<SoftmaxBackward0>))"
      ]
     },
     "execution_count": 40,
     "metadata": {},
     "output_type": "execute_result"
    }
   ],
   "source": [
    "gen_probs = gen_logits[:, -1, :].softmax(dim=1)  # (N, C)\n",
    "gen_probs.shape, gen_probs"
   ]
  },
  {
   "attachments": {},
   "cell_type": "markdown",
   "metadata": {},
   "source": [
    "Poté následující znak vybereme funkcí `torch.multinomial`. Pokud je vstupem dávka pravděpodobnostních rozdělení, funkce výběr provede pro každý řádek vstupu. Jelikož vybíráme pouze jeden znak, nepotřebujeme zadávat `replacement=True`."
   ]
  },
  {
   "cell_type": "code",
   "execution_count": 41,
   "metadata": {},
   "outputs": [
    {
     "data": {
      "text/plain": [
       "tensor([[13],\n",
       "        [21],\n",
       "        [18],\n",
       "        [23],\n",
       "        [13],\n",
       "        [ 8],\n",
       "        [34],\n",
       "        [36],\n",
       "        [10],\n",
       "        [35]])"
      ]
     },
     "execution_count": 41,
     "metadata": {},
     "output_type": "execute_result"
    }
   ],
   "source": [
    "gen_preds = torch.multinomial(gen_probs, 1)  # (N, 1)\n",
    "gen_preds"
   ]
  },
  {
   "attachments": {},
   "cell_type": "markdown",
   "metadata": {},
   "source": [
    "Nakonec sloupcový vektor predikcí připojíme ke stávajícím indexům:"
   ]
  },
  {
   "cell_type": "code",
   "execution_count": 42,
   "metadata": {},
   "outputs": [
    {
     "data": {
      "text/plain": [
       "tensor([[ 0, 13],\n",
       "        [ 0, 21],\n",
       "        [ 0, 18],\n",
       "        [ 0, 23],\n",
       "        [ 0, 13],\n",
       "        [ 0,  8],\n",
       "        [ 0, 34],\n",
       "        [ 0, 36],\n",
       "        [ 0, 10],\n",
       "        [ 0, 35]])"
      ]
     },
     "execution_count": 42,
     "metadata": {},
     "output_type": "execute_result"
    }
   ],
   "source": [
    "gen_ids = torch.cat((gen_ids, gen_preds), dim=1)  # (N, 2)\n",
    "gen_ids"
   ]
  },
  {
   "attachments": {},
   "cell_type": "markdown",
   "metadata": {},
   "source": [
    "Nyní máme dvě možnosti, jak pokračovat v generování textu.\n",
    "1. Buď vezmeme predikce `gen_preds` a skryté stavy `hidden` a pošleme je do modelu pro vygenerování nových vektorů logitů, tj. síť provede pouze jeden nový krok,\n",
    "2. nebo vezmeme celé aktuální sekvence `gen_ids`, skryté stavy `hidden` zahodíme a necháme model zpracovat opětovně celé sekvence od začátku.\n",
    "\n",
    "Byť efektivnější a intuitivnější variantou je první možnost, zvolíme druhou, protože umožňuje jednodušší práci s modelem především při inicializaci skrytých stavů. Generování navíc není výpočetně kritická část kódu, takže to na efektivitu nebude mít téměř žádný vliv."
   ]
  },
  {
   "cell_type": "code",
   "execution_count": 43,
   "metadata": {},
   "outputs": [
    {
     "data": {
      "text/plain": [
       "tensor([[ 0, 13, 28],\n",
       "        [ 0, 21, 22],\n",
       "        [ 0, 18, 26],\n",
       "        [ 0, 23, 25],\n",
       "        [ 0, 13,  6],\n",
       "        [ 0,  8,  3],\n",
       "        [ 0, 34, 32],\n",
       "        [ 0, 36, 36],\n",
       "        [ 0, 10, 11],\n",
       "        [ 0, 35, 12]])"
      ]
     },
     "execution_count": 43,
     "metadata": {},
     "output_type": "execute_result"
    }
   ],
   "source": [
    "gen_logits, gen_hidden = model(gen_ids)  # (N, 2, C), (1, N, H)\n",
    "gen_probs = gen_logits[:, -1, :].softmax(dim=-1)  # (N, C)\n",
    "gen_preds = torch.multinomial(gen_probs, 1)  # (N, 1)\n",
    "gen_ids = torch.cat((gen_ids, gen_preds), dim=1)  # (N, 3)\n",
    "gen_ids"
   ]
  },
  {
   "attachments": {},
   "cell_type": "markdown",
   "metadata": {},
   "source": [
    "Postup bychom mohli opakovat např. 100x.\n",
    "\n",
    "Vygenerované indexy převedeme do textové pomocí funkce `indices2lines` definované níže. Funkce převezme matici indexů a vrátí seznam řádků jako `list[str]`. Převod index na znak je přitom jednoduché indexování seznamu znaků `chars`. Znaky jsou poté spojeny do řetězce a z každého řádku je zahozeno vše od prvního nalezeného START/STOP tokenu dále."
   ]
  },
  {
   "cell_type": "code",
   "execution_count": 44,
   "metadata": {},
   "outputs": [],
   "source": [
    "def indices2lines(ids: torch.Tensor) -> list[str]:\n",
    "    batch_size, sequence_length = ids.shape\n",
    "    lines = [\n",
    "        ''.join(chars[ids[i, j]] for j in range(sequence_length))\n",
    "        for i in range(batch_size)\n",
    "    ]\n",
    "    lines = [l.strip(delimiter).split(delimiter, 1)[0] for l in lines]\n",
    "    return lines"
   ]
  },
  {
   "attachments": {},
   "cell_type": "markdown",
   "metadata": {},
   "source": [
    "Model v tuto chvíli není natrénovaný a vygenerovaný text tak samozřejmě nebude dávat smysl."
   ]
  },
  {
   "cell_type": "code",
   "execution_count": 45,
   "metadata": {},
   "outputs": [
    {
     "data": {
      "text/plain": [
       "['bq', 'jk', 'go', 'ln', 'b4', '61', 'wu', 'yy', '89', 'xa']"
      ]
     },
     "execution_count": 45,
     "metadata": {},
     "output_type": "execute_result"
    }
   ],
   "source": [
    "indices2lines(gen_ids)"
   ]
  },
  {
   "attachments": {},
   "cell_type": "markdown",
   "metadata": {},
   "source": [
    "\n",
    "\n",
    "Abychom zbytečně neopakovali kód, generování textu postupem výše si zadefinujeme jako funkci `generate`, která převezme\n",
    "- znakový jazykový model `model`,\n",
    "- seznam inicializačních textů `init_texts`, které budou doplněny o vygenerovaný text,\n",
    "- maximální délku vygenerovaného textu `max_length`,\n",
    "- přepínač `deterministic` určující, zda má či nemá být výběr dalšího znaku deterministický,\n",
    "\n",
    "a vrátí seznam řádků jako `list[str]`."
   ]
  },
  {
   "cell_type": "code",
   "execution_count": 46,
   "metadata": {},
   "outputs": [],
   "source": [
    "def generate(model: CharRNN, init_texts: list[str], max_length: int = 100, deterministic: bool = False) -> list[str]:\n",
    "    device = next(model.parameters()).device\n",
    "    ids = lines2indices(init_texts, chr2idx).to(device=device)  # (N, T)\n",
    "    ids = ids[:, :-1]  # \n",
    "    for t in range(max_length - ids.shape[1]):\n",
    "        logits, hidden = model(ids)  # (N, T, C), (1, N, H)\n",
    "        logits = logits[:, -1, :]  # (N, C)\n",
    "        if deterministic:\n",
    "            preds = logits.argmax(dim=1)  # (N,)\n",
    "        else:\n",
    "            preds = torch.multinomial(logits.softmax(dim=1), 1)  # (N,)\n",
    "        ids = torch.cat((ids, preds.reshape(-1, 1)), dim=1)  # (N, T+1)\n",
    "    return indices2lines(ids)"
   ]
  },
  {
   "cell_type": "code",
   "execution_count": 47,
   "metadata": {},
   "outputs": [
    {
     "data": {
      "text/plain": [
       "['s35i7ubhqaz1hvqsrrzso 9rw5wnm 150vubw4xizhvqwq hai',\n",
       " 's',\n",
       " 'sit3bf4hgocg0jwvnapeeedc0hc ibdqmtpl8ow0wdbe0',\n",
       " 'sra80g k86 nu0i43',\n",
       " 'sewb59mimg2ec2bcm27ewd3 hn 43',\n",
       " 'sc5xzd',\n",
       " 'ssdp4h',\n",
       " 's574ucamasbmnwln7q81zz3x9 neirkdy',\n",
       " 'sar10plsxrzsegtmbwg3u0qyxqxqnu4edgu2co',\n",
       " 'su']"
      ]
     },
     "execution_count": 47,
     "metadata": {},
     "output_type": "execute_result"
    }
   ],
   "source": [
    "generate(model, ['s'] * 10)"
   ]
  },
  {
   "attachments": {},
   "cell_type": "markdown",
   "metadata": {},
   "source": [
    "# Trénování"
   ]
  },
  {
   "attachments": {},
   "cell_type": "markdown",
   "metadata": {},
   "source": [
    "Kód pro trénování a validaci zabalíme do funkcí `train` a `validate`. Obě provedou jeden průchod daty, tj. jednu epochu, a vrátí průměrné hodnoty lossu a přesnosti predikce (accuracy). Rozdíl mezi oběma funkcemi je pouze ve zpětném průchodu, který probíhá pouze při trénování."
   ]
  },
  {
   "cell_type": "code",
   "execution_count": 48,
   "metadata": {},
   "outputs": [],
   "source": [
    "def train(\n",
    "        loader: torch.utils.data.DataLoader,\n",
    "        model: CharRNN,\n",
    "        criterion: torch.nn.Module,\n",
    "        optimizer: torch.optim.Optimizer,\n",
    "        batch_size: int = 1,\n",
    "        ignore_index: int = -1\n",
    ") -> tuple[float, float]:\n",
    "    model.train()\n",
    "    device = next(model.parameters()).device\n",
    "    train_loss, train_acc = 0., 0.\n",
    "    for lines in loader:\n",
    "        # prepare data\n",
    "        ids = lines2indices(lines, chr2idx)  # (N, T)\n",
    "        inputs = ids[:, :-1].to(device=device)  # (N, T-1)\n",
    "        targets = ids[:, 1:].ravel().to(device=device)  # (N*(T-1),)\n",
    "        \n",
    "        # forward pass\n",
    "        logits, hidden = model(inputs)  # (N, T-1, C), (1, N, H)\n",
    "        \n",
    "        # mask padded indices\n",
    "        mask = targets != ignore_index  # (N*(T-1),)\n",
    "        logits = logits.reshape(-1, logits.shape[-1])  # (N*(T-1), C)\n",
    "        logits = logits[mask]  # (N*sum(mask), C)\n",
    "        targets = targets[mask]  # (N*sum(mask),)\n",
    "\n",
    "        # calcualte metrics\n",
    "        loss = criterion(logits, targets)  # ()\n",
    "        acc = (logits.argmax(dim=1) == targets).float().mean()  # ()\n",
    "\n",
    "        # optimize\n",
    "        optimizer.zero_grad()\n",
    "        loss.backward()\n",
    "        optimizer.step()\n",
    "\n",
    "        # accumulate\n",
    "        train_loss += loss.item()\n",
    "        train_acc += acc.item()\n",
    "\n",
    "    train_loss /= len(loader)\n",
    "    train_acc /= len(loader)\n",
    "    return train_loss, train_acc"
   ]
  },
  {
   "cell_type": "code",
   "execution_count": 49,
   "metadata": {},
   "outputs": [],
   "source": [
    "def validate(\n",
    "        loader: torch.utils.data.DataLoader,\n",
    "        model: CharRNN,\n",
    "        criterion: torch.nn.Module,\n",
    "        batch_size: int = 1,\n",
    "        ignore_index: int = -1\n",
    ") -> tuple[float, float]:\n",
    "    model.eval()\n",
    "    device = next(model.parameters()).device\n",
    "    val_loss, val_acc = 0., 0.\n",
    "    for lines in loader:\n",
    "        # prepare data\n",
    "        ids = lines2indices(lines, chr2idx)  # (N, T)\n",
    "        inputs = ids[:, :-1].to(device=device)  # (N, T-1)\n",
    "        targets = ids[:, 1:].ravel().to(device=device)  # (N*(T-1),)\n",
    "        \n",
    "        # forward pass\n",
    "        logits, hidden = model(inputs)  # (N, T-1, C), (1, N, H)\n",
    "        \n",
    "        # mask padded indices\n",
    "        mask = targets != ignore_index  # (N*(T-1),)\n",
    "        logits = logits.reshape(-1, logits.shape[-1])  # (N*(T-1), C)\n",
    "        logits = logits[mask]  # (N*sum(mask), C)\n",
    "        targets = targets[mask]  # (N*sum(mask),)\n",
    "\n",
    "        # calcualte metrics\n",
    "        loss = criterion(logits, targets)  # ()\n",
    "        acc = (logits.argmax(dim=1) == targets).float().mean()  # ()\n",
    "\n",
    "        # accumulate\n",
    "        val_loss += loss.item()\n",
    "        val_acc += acc.item()\n",
    "\n",
    "    val_loss /= len(loader)\n",
    "    val_acc /= len(loader)\n",
    "    return val_loss, val_acc"
   ]
  },
  {
   "attachments": {},
   "cell_type": "markdown",
   "metadata": {},
   "source": [
    "## Overfit"
   ]
  },
  {
   "attachments": {},
   "cell_type": "markdown",
   "metadata": {},
   "source": [
    "Nyní jsou všechny komponenty pro trénování připravené a můžeme spustit trénování. Pro začátek je lepší vyzkoušet nejprve několik málo řádků `overfit_lines` a teprve poté spustit trénování na plných datech."
   ]
  },
  {
   "cell_type": "code",
   "execution_count": 50,
   "metadata": {},
   "outputs": [
    {
     "name": "stdout",
     "output_type": "stream",
     "text": [
      "train:val split = 10:10\n",
      "epoch=0, train_loss=3.635, train_acc=0.000, val_loss=3.635, val_acc=0.000\n",
      "epoch=1 (0.1s), train_loss=3.635, train_acc=0.000, val_loss=3.277, val_acc=0.148, sample='1tvkh ve eb8'\n",
      "epoch=2 (0.1s), train_loss=3.277, train_acc=0.148, val_loss=3.928, val_acc=0.148, sample='ani v     k e n       a   k      e     v   i o    ni e   e '\n",
      "epoch=3 (0.1s), train_loss=3.928, train_acc=0.148, val_loss=3.765, val_acc=0.101, sample=' lk'\n",
      "epoch=4 (0.1s), train_loss=3.765, train_acc=0.101, val_loss=3.592, val_acc=0.121, sample='namnjalm'\n",
      "epoch=5 (0.1s), train_loss=3.592, train_acc=0.121, val_loss=3.368, val_acc=0.168, sample='ikclubjrerjjkeijeejeiezieuzeuknmeikjojc'\n",
      "epoch=6 (0.1s), train_loss=3.368, train_acc=0.168, val_loss=3.103, val_acc=0.134, sample='lhcjkzocucockibniibcijejnal elziiccuaiiiecdvmd'\n",
      "epoch=7 (0.1s), train_loss=3.103, train_acc=0.134, val_loss=2.967, val_acc=0.215, sample='mtmniteeagvn tc nripd tbekeiupvtslgegvv'\n",
      "epoch=8 (0.1s), train_loss=2.967, train_acc=0.215, val_loss=2.906, val_acc=0.221, sample='meps wrnpb s'\n",
      "epoch=9 (0.1s), train_loss=2.906, train_acc=0.221, val_loss=2.856, val_acc=0.201, sample='lguwn '\n",
      "epoch=10 (0.1s), train_loss=2.856, train_acc=0.201, val_loss=2.788, val_acc=0.201, sample='al'\n",
      "epoch=11 (0.1s), train_loss=2.788, train_acc=0.201, val_loss=2.694, val_acc=0.215, sample='sdead nri'\n",
      "epoch=12 (0.1s), train_loss=2.694, train_acc=0.215, val_loss=2.607, val_acc=0.289, sample='u7mbbel k'\n",
      "epoch=13 (0.1s), train_loss=2.607, train_acc=0.289, val_loss=2.526, val_acc=0.282, sample='8mte b '\n",
      "epoch=14 (0.1s), train_loss=2.526, train_acc=0.282, val_loss=2.426, val_acc=0.369, sample='0pwi niai sliupime'\n",
      "epoch=15 (0.1s), train_loss=2.426, train_acc=0.369, val_loss=2.308, val_acc=0.329, sample='oumezkok aoane'\n",
      "epoch=16 (0.1s), train_loss=2.308, train_acc=0.329, val_loss=2.179, val_acc=0.450, sample='0 lllsten a'\n",
      "epoch=17 (0.1s), train_loss=2.179, train_acc=0.450, val_loss=2.045, val_acc=0.436, sample='tov jza n'\n",
      "epoch=18 (0.1s), train_loss=2.045, train_acc=0.436, val_loss=1.931, val_acc=0.463, sample='esmc a a jzeb anddvi'\n",
      "epoch=19 (0.1s), train_loss=1.931, train_acc=0.463, val_loss=1.857, val_acc=0.450, sample='hoda ni j  '\n",
      "epoch=20 (0.1s), train_loss=1.857, train_acc=0.450, val_loss=1.733, val_acc=0.497, sample='iuv nakirlabun'\n",
      "epoch=21 (0.1s), train_loss=1.733, train_acc=0.497, val_loss=1.592, val_acc=0.510, sample='rev bar zeminc prni'\n",
      "epoch=22 (0.1s), train_loss=1.592, train_acc=0.510, val_loss=1.496, val_acc=0.517, sample='raluz v kocok kse'\n",
      "epoch=23 (0.1s), train_loss=1.496, train_acc=0.517, val_loss=1.382, val_acc=0.544, sample='puvazzze'\n",
      "epoch=24 (0.1s), train_loss=1.382, train_acc=0.544, val_loss=1.271, val_acc=0.591, sample='3rl  mii ki kilej bi'\n",
      "epoch=25 (0.1s), train_loss=1.271, train_acc=0.591, val_loss=1.158, val_acc=0.611, sample='coetpre vii zee'\n",
      "epoch=26 (0.1s), train_loss=1.158, train_acc=0.611, val_loss=1.157, val_acc=0.591, sample='eak naba pr '\n",
      "epoch=27 (0.1s), train_loss=1.157, train_acc=0.591, val_loss=1.261, val_acc=0.564, sample='uuvabak'\n",
      "epoch=28 (0.1s), train_loss=1.261, train_acc=0.564, val_loss=1.218, val_acc=0.591, sample='covtze'\n",
      "epoch=29 (0.1s), train_loss=1.218, train_acc=0.591, val_loss=1.045, val_acc=0.624, sample='inutelu'\n",
      "epoch=30 (0.1s), train_loss=1.045, train_acc=0.624, val_loss=0.971, val_acc=0.671, sample='hudba j le'\n",
      "epoch=31 (0.1s), train_loss=0.971, train_acc=0.671, val_loss=0.918, val_acc=0.691, sample='puvning ze'\n",
      "epoch=32 (0.1s), train_loss=0.918, train_acc=0.691, val_loss=0.853, val_acc=0.698, sample='zmlen b cing zeng b v vn'\n",
      "epoch=33 (0.1s), train_loss=0.853, train_acc=0.698, val_loss=0.773, val_acc=0.765, sample='pucinabci cimbabwimbabwwee ze'\n",
      "epoch=34 (0.1s), train_loss=0.773, train_acc=0.765, val_loss=0.695, val_acc=0.819, sample='zemann ze bekmbning b b be je '\n",
      "epoch=35 (0.1s), train_loss=0.695, train_acc=0.819, val_loss=0.626, val_acc=0.846, sample='jak na koocovinu'\n",
      "epoch=36 (0.1s), train_loss=0.626, train_acc=0.846, val_loss=0.569, val_acc=0.832, sample='zeman je bg'\n",
      "epoch=37 (0.1s), train_loss=0.569, train_acc=0.832, val_loss=0.524, val_acc=0.859, sample='coetzee vv zare'\n",
      "epoch=38 (0.1s), train_loss=0.524, train_acc=0.859, val_loss=0.476, val_acc=0.886, sample='miluji te mode'\n",
      "epoch=39 (0.1s), train_loss=0.476, train_acc=0.886, val_loss=0.436, val_acc=0.906, sample='mle ja o modete'\n",
      "epoch=40 (0.1s), train_loss=0.436, train_acc=0.906, val_loss=0.400, val_acc=0.913, sample='puc vabacodbabwe'\n",
      "epoch=41 (0.1s), train_loss=0.400, train_acc=0.913, val_loss=0.366, val_acc=0.913, sample='zemrne cine'\n",
      "epoch=42 (0.1s), train_loss=0.366, train_acc=0.913, val_loss=0.338, val_acc=0.919, sample='miluji te modre'\n",
      "epoch=43 (0.1s), train_loss=0.338, train_acc=0.919, val_loss=0.314, val_acc=0.926, sample='zemae je v e b bing'\n",
      "epoch=44 (0.1s), train_loss=0.314, train_acc=0.926, val_loss=0.292, val_acc=0.926, sample='omluva'\n",
      "epoch=45 (0.1s), train_loss=0.292, train_acc=0.926, val_loss=0.273, val_acc=0.933, sample='miluji modre'\n",
      "epoch=46 (0.1s), train_loss=0.273, train_acc=0.933, val_loss=0.257, val_acc=0.933, sample='zemrel b b b king'\n",
      "epoch=47 (0.1s), train_loss=0.257, train_acc=0.933, val_loss=0.244, val_acc=0.933, sample='zeman je cine'\n",
      "epoch=48 (0.1s), train_loss=0.244, train_acc=0.933, val_loss=0.232, val_acc=0.933, sample='smog na zlinsku'\n",
      "epoch=49 (0.1s), train_loss=0.232, train_acc=0.933, val_loss=0.223, val_acc=0.933, sample='omluva'\n",
      "epoch=50 (0.1s), train_loss=0.223, train_acc=0.933, val_loss=0.214, val_acc=0.933, sample='milu'\n",
      "epoch=51 (0.1s), train_loss=0.214, train_acc=0.933, val_loss=0.207, val_acc=0.933, sample='zemann je ving'\n",
      "epoch=52 (0.1s), train_loss=0.207, train_acc=0.933, val_loss=0.200, val_acc=0.933, sample='miluji te modre'\n",
      "epoch=53 (0.1s), train_loss=0.200, train_acc=0.933, val_loss=0.194, val_acc=0.933, sample='hudba jako lek'\n",
      "epoch=54 (0.1s), train_loss=0.194, train_acc=0.933, val_loss=0.190, val_acc=0.933, sample='hudba jako lek'\n",
      "epoch=55 (0.1s), train_loss=0.190, train_acc=0.933, val_loss=0.186, val_acc=0.933, sample='puc v zimbabwe'\n",
      "epoch=56 (0.1s), train_loss=0.186, train_acc=0.933, val_loss=0.183, val_acc=0.933, sample='coetzee v praze'\n",
      "epoch=57 (0.1s), train_loss=0.183, train_acc=0.933, val_loss=0.180, val_acc=0.933, sample='hudba jako kok ko'\n",
      "epoch=58 (0.1s), train_loss=0.180, train_acc=0.933, val_loss=0.177, val_acc=0.933, sample='prvni jarni den'\n",
      "epoch=59 (0.1s), train_loss=0.177, train_acc=0.933, val_loss=0.175, val_acc=0.933, sample='milu te modre'\n",
      "epoch=60 (0.1s), train_loss=0.175, train_acc=0.933, val_loss=0.173, val_acc=0.933, sample='omluva'\n",
      "epoch=61 (0.1s), train_loss=0.173, train_acc=0.933, val_loss=0.171, val_acc=0.933, sample='omluva'\n",
      "epoch=62 (0.1s), train_loss=0.171, train_acc=0.933, val_loss=0.170, val_acc=0.933, sample='zeman je v cine'\n",
      "epoch=63 (0.1s), train_loss=0.170, train_acc=0.933, val_loss=0.169, val_acc=0.933, sample='puc v covimbabwe'\n",
      "epoch=64 (0.1s), train_loss=0.169, train_acc=0.933, val_loss=0.168, val_acc=0.933, sample='smog na zlinsku'\n",
      "epoch=65 (0.1s), train_loss=0.168, train_acc=0.933, val_loss=0.167, val_acc=0.933, sample='omluva'\n",
      "epoch=66 (0.1s), train_loss=0.167, train_acc=0.933, val_loss=0.166, val_acc=0.933, sample='omluva'\n",
      "epoch=67 (0.1s), train_loss=0.166, train_acc=0.933, val_loss=0.165, val_acc=0.933, sample='zemrel b b king'\n",
      "epoch=68 (0.1s), train_loss=0.165, train_acc=0.933, val_loss=0.164, val_acc=0.933, sample='puc v zimbabwe'\n",
      "epoch=69 (0.1s), train_loss=0.164, train_acc=0.933, val_loss=0.164, val_acc=0.933, sample='smog na zlinsku'\n",
      "epoch=70 (0.1s), train_loss=0.164, train_acc=0.933, val_loss=0.163, val_acc=0.933, sample='jak na kovinu'\n",
      "epoch=71 (0.1s), train_loss=0.163, train_acc=0.933, val_loss=0.163, val_acc=0.933, sample='puc v zimbabwe'\n",
      "epoch=72 (0.1s), train_loss=0.163, train_acc=0.933, val_loss=0.162, val_acc=0.933, sample='zeman je v cine'\n",
      "epoch=73 (0.1s), train_loss=0.162, train_acc=0.933, val_loss=0.162, val_acc=0.933, sample='zeman je v cine'\n",
      "epoch=74 (0.1s), train_loss=0.162, train_acc=0.933, val_loss=0.162, val_acc=0.933, sample='zeman je v cine'\n",
      "epoch=75 (0.1s), train_loss=0.162, train_acc=0.933, val_loss=0.161, val_acc=0.933, sample='zemrel b b king'\n",
      "epoch=76 (0.1s), train_loss=0.161, train_acc=0.933, val_loss=0.161, val_acc=0.933, sample='prvni jarni den'\n",
      "epoch=77 (0.1s), train_loss=0.161, train_acc=0.933, val_loss=0.161, val_acc=0.933, sample='zemrel b b king'\n",
      "epoch=78 (0.1s), train_loss=0.161, train_acc=0.933, val_loss=0.160, val_acc=0.933, sample='prvni jarni den'\n",
      "epoch=79 (0.1s), train_loss=0.160, train_acc=0.933, val_loss=0.160, val_acc=0.933, sample='jak na kocovinu'\n",
      "epoch=80 (0.1s), train_loss=0.160, train_acc=0.933, val_loss=0.160, val_acc=0.933, sample='miluji te modre'\n",
      "epoch=81 (0.1s), train_loss=0.160, train_acc=0.933, val_loss=0.160, val_acc=0.933, sample='jak na kocovocovinu'\n",
      "epoch=82 (0.1s), train_loss=0.160, train_acc=0.933, val_loss=0.159, val_acc=0.933, sample='zeman je v cine'\n",
      "epoch=83 (0.1s), train_loss=0.159, train_acc=0.933, val_loss=0.159, val_acc=0.933, sample='zeman je v cine'\n",
      "epoch=84 (0.1s), train_loss=0.159, train_acc=0.933, val_loss=0.159, val_acc=0.933, sample='miluji te modre'\n",
      "epoch=85 (0.1s), train_loss=0.159, train_acc=0.933, val_loss=0.159, val_acc=0.933, sample='zemrel b b king'\n",
      "epoch=86 (0.1s), train_loss=0.159, train_acc=0.933, val_loss=0.159, val_acc=0.933, sample='prvni jarni den'\n",
      "epoch=87 (0.1s), train_loss=0.159, train_acc=0.933, val_loss=0.159, val_acc=0.933, sample='prvni jarni den'\n",
      "epoch=88 (0.1s), train_loss=0.159, train_acc=0.933, val_loss=0.159, val_acc=0.933, sample='zeman je v cine'\n",
      "epoch=89 (0.1s), train_loss=0.159, train_acc=0.933, val_loss=0.158, val_acc=0.933, sample='smog na zlinsku'\n",
      "epoch=90 (0.1s), train_loss=0.158, train_acc=0.933, val_loss=0.158, val_acc=0.933, sample='puc v zimbabwe'\n",
      "epoch=91 (0.1s), train_loss=0.158, train_acc=0.933, val_loss=0.158, val_acc=0.933, sample='puc v zimbabwe'\n",
      "epoch=92 (0.1s), train_loss=0.158, train_acc=0.933, val_loss=0.158, val_acc=0.933, sample='coetzee v praze'\n",
      "epoch=93 (0.1s), train_loss=0.158, train_acc=0.933, val_loss=0.158, val_acc=0.933, sample='prvni jarni den'\n",
      "epoch=94 (0.1s), train_loss=0.158, train_acc=0.933, val_loss=0.158, val_acc=0.933, sample='smog na zlinsku'\n",
      "epoch=95 (0.1s), train_loss=0.158, train_acc=0.933, val_loss=0.158, val_acc=0.933, sample='prvni jarni den'\n",
      "epoch=96 (0.1s), train_loss=0.158, train_acc=0.933, val_loss=0.158, val_acc=0.933, sample='omluva'\n",
      "epoch=97 (0.1s), train_loss=0.158, train_acc=0.933, val_loss=0.158, val_acc=0.933, sample='miluji te modre'\n",
      "epoch=98 (0.1s), train_loss=0.158, train_acc=0.933, val_loss=0.158, val_acc=0.933, sample='jak na kocovinu'\n",
      "epoch=99 (0.1s), train_loss=0.158, train_acc=0.933, val_loss=0.158, val_acc=0.933, sample='smog na zlinsku'\n",
      "epoch=100 (0.1s), train_loss=0.158, train_acc=0.933, val_loss=0.158, val_acc=0.933, sample='imluja ki cinsku'\n"
     ]
    }
   ],
   "source": [
    "# reproducibility\n",
    "random.seed(0)\n",
    "torch.manual_seed(0)\n",
    "if torch.cuda.is_available():\n",
    "    torch.cuda.manual_seed(0)\n",
    "\n",
    "# hyperparameters\n",
    "num_epochs = 100\n",
    "batch_size = 10  # N\n",
    "hidden_size = 512  # H\n",
    "num_layers = 1  # L\n",
    "rnn_type = torch.nn.GRU\n",
    "mlp_config = ()\n",
    "learning_rate = 1e-2\n",
    "device = 'cuda'  # set to 'cpu' if CUDA not available\n",
    "\n",
    "# overfit data\n",
    "train_lines = overfit_lines\n",
    "val_lines = overfit_lines\n",
    "print(f\"train:val split = {len(train_lines)}:{len(val_lines)}\")\n",
    "\n",
    "# model\n",
    "model = CharRNN(len(chars), hidden_size=hidden_size, num_layers=num_layers, rnn_type=rnn_type, mlp_config=mlp_config)\n",
    "model.to(device=device)\n",
    "\n",
    "# criterion\n",
    "criterion = torch.nn.CrossEntropyLoss()\n",
    "\n",
    "# optimizer\n",
    "optimizer = torch.optim.Adam(model.parameters(), lr=learning_rate)\n",
    "\n",
    "# loaders\n",
    "train_loader = torch.utils.data.DataLoader(train_lines, batch_size=batch_size, shuffle=True)\n",
    "val_loader = torch.utils.data.DataLoader(val_lines, batch_size=batch_size, shuffle=False)\n",
    "\n",
    "# sanity check: validate before training\n",
    "train_loss, train_acc = validate(train_loader, model, criterion, batch_size=batch_size)\n",
    "val_loss, val_acc = validate(val_loader, model, criterion, batch_size=batch_size)\n",
    "samples = generate(model, [''], max_length=60)\n",
    "history = [(train_loss, train_acc, val_loss, val_acc, samples[0])]\n",
    "print(f\"epoch=0, train_loss={train_loss:.3f}, train_acc={train_acc:.3f}, val_loss={train_loss:.3f}, val_acc={train_acc:.3f}\")\n",
    "\n",
    "# training\n",
    "for epoch in range(num_epochs):\n",
    "    epoch_time = time.time()\n",
    "    \n",
    "    train_loss, train_acc = train(train_loader, model, criterion, optimizer, batch_size=batch_size)\n",
    "    val_loss, val_acc = validate(val_loader, model, criterion, batch_size=batch_size)\n",
    "    samples = generate(model, [''], max_length=60)\n",
    "    history.append((train_loss, train_acc, val_loss, val_acc, samples[0]))\n",
    "    \n",
    "    print(f\"epoch={epoch+1} ({time.time() - epoch_time:.1f}s), \"\n",
    "          f\"train_loss={train_loss:.3f}, train_acc={train_acc:.3f}, \"\n",
    "          f\"val_loss={val_loss:.3f}, val_acc={val_acc:.3f}, \"\n",
    "          f\"sample='{samples[0]}'\")"
   ]
  },
  {
   "cell_type": "code",
   "execution_count": 51,
   "metadata": {},
   "outputs": [
    {
     "data": {
      "image/png": "[encoded data removed]",
      "text/plain": [
       "<Figure size 640x480 with 2 Axes>"
      ]
     },
     "metadata": {},
     "output_type": "display_data"
    }
   ],
   "source": [
    "df = pd.DataFrame(history, columns=['train_loss', 'train_acc', 'val_loss', 'val_acc', 'sample'])\n",
    "df.plot(secondary_y=['train_acc', 'val_acc']);"
   ]
  },
  {
   "attachments": {},
   "cell_type": "markdown",
   "metadata": {},
   "source": [
    "Můžeme si všimnout, že úpěšnost na `overfit_lines` není 100 %, ale pouze cca 93 %. Podíváme se na predikce blíže, abychom zjistili, kde je problém. Zopakujeme nejprve ručně dopředný průchod sítí na `overfit_lines`, vytvoříme predikce indexů znaků `val_preds`, převedeme zpět do řetězců a porovnáme se správnými hodnotami."
   ]
  },
  {
   "cell_type": "code",
   "execution_count": 52,
   "metadata": {},
   "outputs": [
    {
     "data": {
      "text/html": [
       "<div>\n",
       "<style scoped>\n",
       "    .dataframe tbody tr th:only-of-type {\n",
       "        vertical-align: middle;\n",
       "    }\n",
       "\n",
       "    .dataframe tbody tr th {\n",
       "        vertical-align: top;\n",
       "    }\n",
       "\n",
       "    .dataframe thead th {\n",
       "        text-align: right;\n",
       "    }\n",
       "</style>\n",
       "<table border=\"1\" class=\"dataframe\">\n",
       "  <thead>\n",
       "    <tr style=\"text-align: right;\">\n",
       "      <th></th>\n",
       "      <th>predicted</th>\n",
       "      <th>true</th>\n",
       "    </tr>\n",
       "  </thead>\n",
       "  <tbody>\n",
       "    <tr>\n",
       "      <th>0</th>\n",
       "      <td>pmluva</td>\n",
       "      <td>omluva</td>\n",
       "    </tr>\n",
       "    <tr>\n",
       "      <th>1</th>\n",
       "      <td>puc v zimbabwe</td>\n",
       "      <td>puc v zimbabwe</td>\n",
       "    </tr>\n",
       "    <tr>\n",
       "      <th>2</th>\n",
       "      <td>pudba jako lek</td>\n",
       "      <td>hudba jako lek</td>\n",
       "    </tr>\n",
       "    <tr>\n",
       "      <th>3</th>\n",
       "      <td>pmog na zlinsku</td>\n",
       "      <td>smog na zlinsku</td>\n",
       "    </tr>\n",
       "    <tr>\n",
       "      <th>4</th>\n",
       "      <td>pak na kocovinu</td>\n",
       "      <td>jak na kocovinu</td>\n",
       "    </tr>\n",
       "    <tr>\n",
       "      <th>5</th>\n",
       "      <td>pemrel b b king</td>\n",
       "      <td>zemrel b b king</td>\n",
       "    </tr>\n",
       "    <tr>\n",
       "      <th>6</th>\n",
       "      <td>poetzee v praze</td>\n",
       "      <td>coetzee v praze</td>\n",
       "    </tr>\n",
       "    <tr>\n",
       "      <th>7</th>\n",
       "      <td>puvni jarni den</td>\n",
       "      <td>prvni jarni den</td>\n",
       "    </tr>\n",
       "    <tr>\n",
       "      <th>8</th>\n",
       "      <td>piluji te modre</td>\n",
       "      <td>miluji te modre</td>\n",
       "    </tr>\n",
       "    <tr>\n",
       "      <th>9</th>\n",
       "      <td>pemrn je v cine</td>\n",
       "      <td>zeman je v cine</td>\n",
       "    </tr>\n",
       "  </tbody>\n",
       "</table>\n",
       "</div>"
      ],
      "text/plain": [
       "         predicted             true\n",
       "0           pmluva           omluva\n",
       "1   puc v zimbabwe   puc v zimbabwe\n",
       "2   pudba jako lek   hudba jako lek\n",
       "3  pmog na zlinsku  smog na zlinsku\n",
       "4  pak na kocovinu  jak na kocovinu\n",
       "5  pemrel b b king  zemrel b b king\n",
       "6  poetzee v praze  coetzee v praze\n",
       "7  puvni jarni den  prvni jarni den\n",
       "8  piluji te modre  miluji te modre\n",
       "9  pemrn je v cine  zeman je v cine"
      ]
     },
     "execution_count": 52,
     "metadata": {},
     "output_type": "execute_result"
    }
   ],
   "source": [
    "# prepare data\n",
    "val_ids = lines2indices(overfit_lines, chr2idx)  # (N, T)\n",
    "val_inputs = val_ids[:, :-1].to(device=device)  # (N, T-1)\n",
    "val_targets = val_ids[:, 1:].to(device=device)  # (N*(T-1),)\n",
    "\n",
    "# forward pass\n",
    "val_logits, val_hidden = model(val_inputs)  # (N, T-1, C), (1, N, H)\n",
    "\n",
    "# deterministic predictions of next chars\n",
    "val_preds = val_logits.argmax(dim=-1)\n",
    "\n",
    "# compare as strings\n",
    "pd.DataFrame(data=dict(predicted=indices2lines(val_preds.cpu()), true=indices2lines(val_targets.cpu())))"
   ]
  },
  {
   "attachments": {},
   "cell_type": "markdown",
   "metadata": {},
   "source": [
    "Jak vidíme, jako první znak za START/STOP tokenem síť vždy predikuje `'p'`, protože ten je spolu s `'z'` jedním ze dvou nejčastěji následujících. Tento druh chyby způsobí 8 chyb, tzn. vyskytne se u všech řádků nezačínajících `'p'`. Další chyba je na řádku 7, kdy sekvenci `'.p'` síť doplňuje na `'.pu'`, protože takto se to naučila z druhého nadpisu v trénovacích datech `overfit_lines` (nadpis `'puc v zimbabwe'`). Podobně pak 10. chyba vznikne na posledním řádku, kde vstup `.zem` síť doplní na `.zemr` dle nadpisu `'zemrel b b king'`, namísto správného `'zeman je v cine'`. Tyto nejednoznačnosti jsou nedílnou součástí dat a nelze je odstranit, a tak je stropem pro overfit accuracy ve skutečnosti 93.3 %, nikoliv 100 %."
   ]
  },
  {
   "attachments": {},
   "cell_type": "markdown",
   "metadata": {},
   "source": [
    "## Optimalizace na plných datech"
   ]
  },
  {
   "attachments": {},
   "cell_type": "markdown",
   "metadata": {},
   "source": [
    "Po zkontrolování funkčnosti natrénujeme model na kompletních datech a konečně zkusíme vygenerovat nové nadpisy."
   ]
  },
  {
   "cell_type": "code",
   "execution_count": 53,
   "metadata": {},
   "outputs": [
    {
     "name": "stdout",
     "output_type": "stream",
     "text": [
      "train:val split = 70427:17607\n",
      "epoch=0, train_loss=3.634, train_acc=0.001, val_loss=3.634, val_acc=0.001\n",
      "epoch=1 (17.3s), train_loss=2.187, train_acc=0.329, val_loss=1.828, val_acc=0.438, sample='zavahove pocitalu taz jmen odrozil zej v kalize tomi pred b'\n",
      "epoch=2 (17.3s), train_loss=1.684, train_acc=0.480, val_loss=1.593, val_acc=0.507, sample='tri recitni centrum ctvrt srojte hrdinych ci'\n",
      "epoch=3 (17.4s), train_loss=1.534, train_acc=0.523, val_loss=1.511, val_acc=0.531, sample='tykacka s maftedel konvojne haklaru je objevnich ji ztratit'\n",
      "epoch=4 (17.4s), train_loss=1.461, train_acc=0.544, val_loss=1.467, val_acc=0.543, sample='nashedlici do polska nad ruskou pamottou penize ohermesy ja'\n",
      "epoch=5 (17.5s), train_loss=1.415, train_acc=0.557, val_loss=1.441, val_acc=0.552, sample='dalla zranil stane lidske mexicky krokci zahraji kolem obav'\n",
      "epoch=6 (17.5s), train_loss=1.382, train_acc=0.567, val_loss=1.423, val_acc=0.557, sample='stat zochvoli byt odije nalezeni trump'\n",
      "epoch=7 (17.6s), train_loss=1.356, train_acc=0.574, val_loss=1.412, val_acc=0.561, sample='merkelova vyptavili pro magiupuje degiantovi do sveta na ri'\n",
      "epoch=8 (17.7s), train_loss=1.336, train_acc=0.580, val_loss=1.405, val_acc=0.563, sample='mezi sebevrazednymo stanove mani zhrouta'\n",
      "epoch=9 (17.6s), train_loss=1.319, train_acc=0.585, val_loss=1.398, val_acc=0.566, sample='legenda u brna prijelo 169 x 40 kilogram'\n",
      "epoch=10 (17.6s), train_loss=1.304, train_acc=0.589, val_loss=1.394, val_acc=0.566, sample='americkou zivotni ukrajiny kvuli rusku se proti uprostredov'\n",
      "epoch=11 (17.6s), train_loss=1.292, train_acc=0.593, val_loss=1.392, val_acc=0.568, sample='sefa teroristickeho utoku na skolkach dum vyhrozuje rychly'\n",
      "epoch=12 (17.6s), train_loss=1.281, train_acc=0.596, val_loss=1.392, val_acc=0.568, sample='v manchesteru sveta bez hranic atentatniku z ponoeku'\n",
      "epoch=13 (17.7s), train_loss=1.271, train_acc=0.599, val_loss=1.389, val_acc=0.570, sample='utok na irak po islamskem statu vseji si sponedorlova weins'\n",
      "epoch=14 (17.6s), train_loss=1.263, train_acc=0.602, val_loss=1.390, val_acc=0.570, sample='v parizi zabili cecha odsoudili mu drogove pomoci na anpeop'\n",
      "epoch=15 (17.6s), train_loss=1.256, train_acc=0.604, val_loss=1.389, val_acc=0.571, sample='vyderacsky viertal porstil v panave modelu komsky sondy pus'\n",
      "epoch=16 (17.6s), train_loss=1.249, train_acc=0.606, val_loss=1.389, val_acc=0.571, sample='recenze povstalci v sesti letkuvech predvodemneho turk baly'\n",
      "epoch=17 (17.6s), train_loss=1.243, train_acc=0.607, val_loss=1.389, val_acc=0.571, sample='tovarna hongcopola hrvolajdova irdi'\n",
      "epoch=18 (17.7s), train_loss=1.238, train_acc=0.609, val_loss=1.390, val_acc=0.571, sample='asad vystrcil a david premier reaguje o azyl'\n",
      "epoch=19 (17.6s), train_loss=1.233, train_acc=0.610, val_loss=1.393, val_acc=0.571, sample='zena na srazce v ohdu se srazila s dodavkam dalsi batva jen'\n",
      "epoch=20 (17.9s), train_loss=1.229, train_acc=0.611, val_loss=1.393, val_acc=0.571, sample='italie vyhazuji ozivy huricinovou tak aspes'\n"
     ]
    }
   ],
   "source": [
    "# reproducibility\n",
    "random.seed(0)\n",
    "torch.manual_seed(0)\n",
    "if torch.cuda.is_available():\n",
    "    torch.cuda.manual_seed(0)\n",
    "\n",
    "# hyperparameters\n",
    "trainset_ratio = 0.8\n",
    "num_epochs = 20\n",
    "batch_size = 50  # N\n",
    "hidden_size = 512  # H\n",
    "num_layers = 1  # L\n",
    "rnn_type = torch.nn.GRU\n",
    "mlp_config = ()\n",
    "learning_rate = 1e-3\n",
    "device = 'cuda'  # set to 'cpu' if CUDA not available\n",
    "\n",
    "# overfit data\n",
    "train_lines = lines[:int(trainset_ratio * len(lines))]\n",
    "val_lines = lines[int(trainset_ratio * len(lines)):]\n",
    "print(f\"train:val split = {len(train_lines)}:{len(val_lines)}\")\n",
    "\n",
    "# model\n",
    "model = CharRNN(len(chars), hidden_size=hidden_size, num_layers=num_layers, rnn_type=rnn_type, mlp_config=mlp_config)\n",
    "model.to(device=device)\n",
    "\n",
    "# criterion\n",
    "criterion = torch.nn.CrossEntropyLoss()\n",
    "\n",
    "# optimizer\n",
    "optimizer = torch.optim.Adam(model.parameters(), lr=learning_rate)\n",
    "\n",
    "# loaders\n",
    "train_loader = torch.utils.data.DataLoader(train_lines, batch_size=batch_size, shuffle=True)\n",
    "val_loader = torch.utils.data.DataLoader(val_lines, batch_size=batch_size, shuffle=False)\n",
    "\n",
    "# sanity check: validate before training\n",
    "train_loss, train_acc = validate(train_loader, model, criterion, batch_size=batch_size)\n",
    "val_loss, val_acc = validate(val_loader, model, criterion, batch_size=batch_size)\n",
    "samples = generate(model, [''], max_length=60)\n",
    "history = [(train_loss, train_acc, val_loss, val_acc, samples[0])]\n",
    "print(f\"epoch=0, train_loss={train_loss:.3f}, train_acc={train_acc:.3f}, val_loss={train_loss:.3f}, val_acc={train_acc:.3f}\")\n",
    "\n",
    "# training\n",
    "for epoch in range(num_epochs):\n",
    "    epoch_time = time.time()\n",
    "    \n",
    "    train_loss, train_acc = train(train_loader, model, criterion, optimizer, batch_size=batch_size)\n",
    "    val_loss, val_acc = validate(val_loader, model, criterion, batch_size=batch_size)\n",
    "    samples = generate(model, [''], max_length=60)\n",
    "    history.append((train_loss, train_acc, val_loss, val_acc, samples[0]))\n",
    "    \n",
    "    print(f\"epoch={epoch+1} ({time.time() - epoch_time:.1f}s), \"\n",
    "          f\"train_loss={train_loss:.3f}, train_acc={train_acc:.3f}, \"\n",
    "          f\"val_loss={val_loss:.3f}, val_acc={val_acc:.3f}, \"\n",
    "          f\"sample='{samples[0]}'\")"
   ]
  },
  {
   "cell_type": "code",
   "execution_count": 54,
   "metadata": {},
   "outputs": [
    {
     "data": {
      "image/png": "[encoded data removed]",
      "text/plain": [
       "<Figure size 640x480 with 2 Axes>"
      ]
     },
     "metadata": {},
     "output_type": "display_data"
    }
   ],
   "source": [
    "df = pd.DataFrame(history, columns=['train_loss', 'train_acc', 'val_loss', 'val_acc', 'sample'])\n",
    "df.plot(secondary_y=['train_acc', 'val_acc']);"
   ]
  },
  {
   "cell_type": "code",
   "execution_count": 55,
   "metadata": {},
   "outputs": [
    {
     "data": {
      "text/plain": [
       "['ridici se vzacnou pozustalistu dalsi sestreleneho signala vrala',\n",
       " 'recenze bij wrok a hasic predal vecerni silek rozpychy meli na ministerstvo',\n",
       " 'ustavni soud odmitl stist vnitry plynovodci',\n",
       " 'merkelova objevila alepadam elax andree',\n",
       " 'slovak zuri na narodni tride polak vede',\n",
       " 'pri prezidenta ve stojeni zacina boj e s ceskymi tratikem miri namorni galerii',\n",
       " 'kralove knezech variji vydaneni zbrani do stredni estenek hravniho kurdami',\n",
       " 'konzole mesice se vratil volkswagenem ceske drogy',\n",
       " 'amozi si stale neolnachalo doslova dva miliony mesicu',\n",
       " 'volbou se poprve pry melo pred silnymi jedineho a kamionu cast']"
      ]
     },
     "execution_count": 55,
     "metadata": {},
     "output_type": "execute_result"
    }
   ],
   "source": [
    "# call this again to generate different text\n",
    "generate(model, [''] * 10)"
   ]
  }
 ],
 "metadata": {
  "kernelspec": {
   "display_name": "ans22",
   "language": "python",
   "name": "python3"
  },
  "language_info": {
   "codemirror_mode": {
    "name": "ipython",
    "version": 3
   },
   "file_extension": ".py",
   "mimetype": "text/x-python",
   "name": "python",
   "nbconvert_exporter": "python",
   "pygments_lexer": "ipython3",
   "version": "3.9.13"
  },
  "orig_nbformat": 4,
  "vscode": {
   "interpreter": {
    "hash": "05e1de94e3d7b977588390a98a576766cee302f1869cb8e2c328c0a63ae06e61"
   }
  }
 },
 "nbformat": 4,
 "nbformat_minor": 2
}
